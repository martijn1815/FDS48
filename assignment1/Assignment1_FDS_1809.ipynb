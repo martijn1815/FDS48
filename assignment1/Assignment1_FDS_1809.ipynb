{
 "cells": [
  {
   "cell_type": "code",
   "execution_count": 805,
   "metadata": {},
   "outputs": [],
   "source": [
    "import os\n",
    "import tarfile\n",
    "import json\n",
    "import pandas as pd\n",
    "#from google.colab import drive"
   ]
  },
  {
   "cell_type": "code",
   "execution_count": 806,
   "metadata": {},
   "outputs": [],
   "source": [
    "#Set WD\n",
    "# Use this line in Colab\n",
    "#drive.mount(\"/content/drive\")\n",
    "#Use this line in local jupyter\n",
    "os.chdir(\"/Users/andreaprenner/Desktop/Master_UvA/1. Semester/FundamentalsOfDS/Assignment1\")"
   ]
  },
  {
   "cell_type": "code",
   "execution_count": 807,
   "metadata": {},
   "outputs": [],
   "source": [
    "# Use this line in Colab\n",
    "#tar = tarfile.open('/content/drive/My Drive/Colab Notebooks/Assignment 1 FDS/geotagged_tweets_20160812-0912.tar')\n",
    "# Use this line in local jupyter\n",
    "tar = tarfile.open(\"geotagged_tweets_20160812-0912.tar.gz\")\n",
    "files = tar.getmembers()"
   ]
  },
  {
   "cell_type": "code",
   "execution_count": 808,
   "metadata": {},
   "outputs": [],
   "source": [
    "f = tar.extractfile(files[0]) \n",
    "data = f.readlines()"
   ]
  },
  {
   "cell_type": "code",
   "execution_count": 796,
   "metadata": {},
   "outputs": [
    {
     "data": {
      "text/plain": [
       "{'created_at': 'Fri Aug 12 10:04:00 +0000 2016',\n",
       " 'id': 764039724818272256,\n",
       " 'id_str': '764039724818272256',\n",
       " 'text': '@theblaze @realDonaldTrump https://t.co/TY9DlZ584c',\n",
       " 'source': '<a href=\"http://twitter.com/download/iphone\" rel=\"nofollow\">Twitter for iPhone</a>',\n",
       " 'truncated': False,\n",
       " 'in_reply_to_status_id': 764038820476051456,\n",
       " 'in_reply_to_status_id_str': '764038820476051456',\n",
       " 'in_reply_to_user_id': 10774652,\n",
       " 'in_reply_to_user_id_str': '10774652',\n",
       " 'in_reply_to_screen_name': 'theblaze',\n",
       " 'user': {'id': 366636488,\n",
       "  'id_str': '366636488',\n",
       "  'name': 'GIL DUPUY',\n",
       "  'screen_name': 'DUPUY77',\n",
       "  'location': 'Miami',\n",
       "  'url': 'http://ggm-dupuy.com',\n",
       "  'description': \"Fashion photographer, love action and adventure, care for the less fortunate, don't tolerate any kind of racism regardless of race or religion\",\n",
       "  'protected': False,\n",
       "  'verified': False,\n",
       "  'followers_count': 186,\n",
       "  'friends_count': 446,\n",
       "  'listed_count': 19,\n",
       "  'favourites_count': 1708,\n",
       "  'statuses_count': 17620,\n",
       "  'created_at': 'Fri Sep 02 14:54:17 +0000 2011',\n",
       "  'utc_offset': None,\n",
       "  'time_zone': None,\n",
       "  'geo_enabled': True,\n",
       "  'lang': 'en',\n",
       "  'contributors_enabled': False,\n",
       "  'is_translator': False,\n",
       "  'profile_background_color': '131516',\n",
       "  'profile_background_image_url': 'http://abs.twimg.com/images/themes/theme14/bg.gif',\n",
       "  'profile_background_image_url_https': 'https://abs.twimg.com/images/themes/theme14/bg.gif',\n",
       "  'profile_background_tile': True,\n",
       "  'profile_link_color': '009999',\n",
       "  'profile_sidebar_border_color': 'EEEEEE',\n",
       "  'profile_sidebar_fill_color': 'EFEFEF',\n",
       "  'profile_text_color': '333333',\n",
       "  'profile_use_background_image': True,\n",
       "  'profile_image_url': 'http://pbs.twimg.com/profile_images/760915612910497792/bz4WtvbZ_normal.jpg',\n",
       "  'profile_image_url_https': 'https://pbs.twimg.com/profile_images/760915612910497792/bz4WtvbZ_normal.jpg',\n",
       "  'default_profile': False,\n",
       "  'default_profile_image': False,\n",
       "  'following': None,\n",
       "  'follow_request_sent': None,\n",
       "  'notifications': None},\n",
       " 'geo': None,\n",
       " 'coordinates': None,\n",
       " 'place': {'id': '29a119f18820c3ad',\n",
       "  'url': 'https://api.twitter.com/1.1/geo/id/29a119f18820c3ad.json',\n",
       "  'place_type': 'city',\n",
       "  'name': 'Frontenac',\n",
       "  'full_name': 'Frontenac, MO',\n",
       "  'country_code': 'US',\n",
       "  'country': 'United States',\n",
       "  'bounding_box': {'type': 'Polygon',\n",
       "   'coordinates': [[[-90.433909, 38.606163],\n",
       "     [-90.433909, 38.647891],\n",
       "     [-90.405462, 38.647891],\n",
       "     [-90.405462, 38.606163]]]},\n",
       "  'attributes': {}},\n",
       " 'contributors': None,\n",
       " 'is_quote_status': False,\n",
       " 'retweet_count': 0,\n",
       " 'favorite_count': 0,\n",
       " 'entities': {'hashtags': [],\n",
       "  'urls': [],\n",
       "  'user_mentions': [{'screen_name': 'theblaze',\n",
       "    'name': 'TheBlaze',\n",
       "    'id': 10774652,\n",
       "    'id_str': '10774652',\n",
       "    'indices': [0, 9]},\n",
       "   {'screen_name': 'realDonaldTrump',\n",
       "    'name': 'Donald J. Trump',\n",
       "    'id': 25073877,\n",
       "    'id_str': '25073877',\n",
       "    'indices': [10, 26]}],\n",
       "  'symbols': [],\n",
       "  'media': [{'id': 764039718237409281,\n",
       "    'id_str': '764039718237409281',\n",
       "    'indices': [27, 50],\n",
       "    'media_url': 'http://pbs.twimg.com/media/CppqE1_UkAE2qFj.jpg',\n",
       "    'media_url_https': 'https://pbs.twimg.com/media/CppqE1_UkAE2qFj.jpg',\n",
       "    'url': 'https://t.co/TY9DlZ584c',\n",
       "    'display_url': 'pic.twitter.com/TY9DlZ584c',\n",
       "    'expanded_url': 'http://twitter.com/DUPUY77/status/764039724818272256/photo/1',\n",
       "    'type': 'photo',\n",
       "    'sizes': {'medium': {'w': 640, 'h': 1136, 'resize': 'fit'},\n",
       "     'large': {'w': 640, 'h': 1136, 'resize': 'fit'},\n",
       "     'thumb': {'w': 150, 'h': 150, 'resize': 'crop'},\n",
       "     'small': {'w': 383, 'h': 680, 'resize': 'fit'}}}]},\n",
       " 'extended_entities': {'media': [{'id': 764039718237409281,\n",
       "    'id_str': '764039718237409281',\n",
       "    'indices': [27, 50],\n",
       "    'media_url': 'http://pbs.twimg.com/media/CppqE1_UkAE2qFj.jpg',\n",
       "    'media_url_https': 'https://pbs.twimg.com/media/CppqE1_UkAE2qFj.jpg',\n",
       "    'url': 'https://t.co/TY9DlZ584c',\n",
       "    'display_url': 'pic.twitter.com/TY9DlZ584c',\n",
       "    'expanded_url': 'http://twitter.com/DUPUY77/status/764039724818272256/photo/1',\n",
       "    'type': 'photo',\n",
       "    'sizes': {'medium': {'w': 640, 'h': 1136, 'resize': 'fit'},\n",
       "     'large': {'w': 640, 'h': 1136, 'resize': 'fit'},\n",
       "     'thumb': {'w': 150, 'h': 150, 'resize': 'crop'},\n",
       "     'small': {'w': 383, 'h': 680, 'resize': 'fit'}}}]},\n",
       " 'favorited': False,\n",
       " 'retweeted': False,\n",
       " 'possibly_sensitive': False,\n",
       " 'filter_level': 'low',\n",
       " 'lang': 'und',\n",
       " 'timestamp_ms': '1470996240225'}"
      ]
     },
     "execution_count": 796,
     "metadata": {},
     "output_type": "execute_result"
    }
   ],
   "source": [
    "#One tweet entry in raw data file\n",
    "json.loads(data[0])"
   ]
  },
  {
   "cell_type": "code",
   "execution_count": 830,
   "metadata": {},
   "outputs": [],
   "source": [
    "#Change dictionary into dataframe\n",
    "#Load dictionaries within dictionaries (user, place) separately. From user exclude unnecessary columns\n",
    "data_formatted = []\n",
    "for i in range(0, 100): \n",
    "    data_f = json.loads(data[i])\n",
    "    user = data_f['user']\n",
    "    user = pd.DataFrame([user])\n",
    "    unwanted_user = set(['id_str', 'profile_background_color', 'profile_background_image_url', \n",
    "                         'profile_background_image_url_https', 'profile_background_tile', \n",
    "                        'profile_link_color', 'profile_sidebar_border_color', \n",
    "                        'profile_sidebar_fill_color', 'profile_text_color', 'profile_use_background_image', \n",
    "                        'profile_image_url', 'profile_image_url_https', 'default_profile_image']) \n",
    "    for unwanted_key in unwanted_user: del user[unwanted_key]\n",
    "    place = data_f['place']\n",
    "    place = pd.DataFrame([place])\n",
    "    place = place[['full_name', 'country_code', 'bounding_box']]\n",
    "    unwanted = set(['user', 'place', 'entities']) #Dictionaries within dictionaries\n",
    "    for unwanted_key in unwanted: del data_f[unwanted_key]\n",
    "    data_pre = pd.DataFrame([data_f])\n",
    "    user = user.rename({'id':'user_id'}, axis=1)\n",
    "    if i == 0: \n",
    "        data_formatted = data_pre\n",
    "        user_formatted = user\n",
    "        place_formatted = place\n",
    "    else:\n",
    "        data_formatted = data_formatted.append(data_pre, ignore_index=True)\n",
    "        user_formatted = user_formatted.append(user, ignore_index=True)\n",
    "        place_formatted = place_formatted.append(place, ignore_index=True)"
   ]
  },
  {
   "cell_type": "code",
   "execution_count": 831,
   "metadata": {},
   "outputs": [
    {
     "data": {
      "text/html": [
       "<div>\n",
       "<style scoped>\n",
       "    .dataframe tbody tr th:only-of-type {\n",
       "        vertical-align: middle;\n",
       "    }\n",
       "\n",
       "    .dataframe tbody tr th {\n",
       "        vertical-align: top;\n",
       "    }\n",
       "\n",
       "    .dataframe thead th {\n",
       "        text-align: right;\n",
       "    }\n",
       "</style>\n",
       "<table border=\"1\" class=\"dataframe\">\n",
       "  <thead>\n",
       "    <tr style=\"text-align: right;\">\n",
       "      <th></th>\n",
       "      <th>contributors</th>\n",
       "      <th>coordinates</th>\n",
       "      <th>created_at</th>\n",
       "      <th>extended_entities</th>\n",
       "      <th>favorite_count</th>\n",
       "      <th>favorited</th>\n",
       "      <th>filter_level</th>\n",
       "      <th>geo</th>\n",
       "      <th>id</th>\n",
       "      <th>id_str</th>\n",
       "      <th>...</th>\n",
       "      <th>screen_name</th>\n",
       "      <th>statuses_count</th>\n",
       "      <th>time_zone</th>\n",
       "      <th>url</th>\n",
       "      <th>user_id</th>\n",
       "      <th>utc_offset</th>\n",
       "      <th>verified</th>\n",
       "      <th>full_name</th>\n",
       "      <th>country_code</th>\n",
       "      <th>bounding_box</th>\n",
       "    </tr>\n",
       "  </thead>\n",
       "  <tbody>\n",
       "    <tr>\n",
       "      <th>0</th>\n",
       "      <td>None</td>\n",
       "      <td>None</td>\n",
       "      <td>Fri Aug 12 10:04:00 +0000 2016</td>\n",
       "      <td>{'media': [{'id': 764039718237409281, 'id_str'...</td>\n",
       "      <td>0</td>\n",
       "      <td>False</td>\n",
       "      <td>low</td>\n",
       "      <td>None</td>\n",
       "      <td>764039724818272256</td>\n",
       "      <td>764039724818272256</td>\n",
       "      <td>...</td>\n",
       "      <td>DUPUY77</td>\n",
       "      <td>17620</td>\n",
       "      <td>None</td>\n",
       "      <td>http://ggm-dupuy.com</td>\n",
       "      <td>366636488</td>\n",
       "      <td>None</td>\n",
       "      <td>False</td>\n",
       "      <td>Frontenac, MO</td>\n",
       "      <td>US</td>\n",
       "      <td>{'type': 'Polygon', 'coordinates': [[[-90.4339...</td>\n",
       "    </tr>\n",
       "    <tr>\n",
       "      <th>1</th>\n",
       "      <td>None</td>\n",
       "      <td>None</td>\n",
       "      <td>Fri Aug 12 10:04:02 +0000 2016</td>\n",
       "      <td>NaN</td>\n",
       "      <td>0</td>\n",
       "      <td>False</td>\n",
       "      <td>low</td>\n",
       "      <td>None</td>\n",
       "      <td>764039733076897792</td>\n",
       "      <td>764039733076897792</td>\n",
       "      <td>...</td>\n",
       "      <td>redoctapus</td>\n",
       "      <td>5046</td>\n",
       "      <td>Eastern Time (US &amp; Canada)</td>\n",
       "      <td>None</td>\n",
       "      <td>82496193</td>\n",
       "      <td>-14400</td>\n",
       "      <td>False</td>\n",
       "      <td>Baton Rouge, LA</td>\n",
       "      <td>US</td>\n",
       "      <td>{'type': 'Polygon', 'coordinates': [[[-91.2189...</td>\n",
       "    </tr>\n",
       "    <tr>\n",
       "      <th>2</th>\n",
       "      <td>None</td>\n",
       "      <td>None</td>\n",
       "      <td>Fri Aug 12 10:04:10 +0000 2016</td>\n",
       "      <td>{'media': [{'id': 764039762973896704, 'id_str'...</td>\n",
       "      <td>0</td>\n",
       "      <td>False</td>\n",
       "      <td>low</td>\n",
       "      <td>None</td>\n",
       "      <td>764039769244348417</td>\n",
       "      <td>764039769244348417</td>\n",
       "      <td>...</td>\n",
       "      <td>DUPUY77</td>\n",
       "      <td>17621</td>\n",
       "      <td>None</td>\n",
       "      <td>http://ggm-dupuy.com</td>\n",
       "      <td>366636488</td>\n",
       "      <td>None</td>\n",
       "      <td>False</td>\n",
       "      <td>Frontenac, MO</td>\n",
       "      <td>US</td>\n",
       "      <td>{'type': 'Polygon', 'coordinates': [[[-90.4339...</td>\n",
       "    </tr>\n",
       "    <tr>\n",
       "      <th>3</th>\n",
       "      <td>None</td>\n",
       "      <td>None</td>\n",
       "      <td>Fri Aug 12 10:04:21 +0000 2016</td>\n",
       "      <td>NaN</td>\n",
       "      <td>0</td>\n",
       "      <td>False</td>\n",
       "      <td>low</td>\n",
       "      <td>None</td>\n",
       "      <td>764039812479225856</td>\n",
       "      <td>764039812479225856</td>\n",
       "      <td>...</td>\n",
       "      <td>jjorgi30</td>\n",
       "      <td>2231</td>\n",
       "      <td>Melbourne</td>\n",
       "      <td>None</td>\n",
       "      <td>44032624</td>\n",
       "      <td>36000</td>\n",
       "      <td>False</td>\n",
       "      <td>Melbourne, Victoria</td>\n",
       "      <td>AU</td>\n",
       "      <td>{'type': 'Polygon', 'coordinates': [[[144.5937...</td>\n",
       "    </tr>\n",
       "    <tr>\n",
       "      <th>4</th>\n",
       "      <td>None</td>\n",
       "      <td>None</td>\n",
       "      <td>Fri Aug 12 10:04:30 +0000 2016</td>\n",
       "      <td>NaN</td>\n",
       "      <td>0</td>\n",
       "      <td>False</td>\n",
       "      <td>low</td>\n",
       "      <td>None</td>\n",
       "      <td>764039849850482689</td>\n",
       "      <td>764039849850482689</td>\n",
       "      <td>...</td>\n",
       "      <td>bspence5</td>\n",
       "      <td>92605</td>\n",
       "      <td>None</td>\n",
       "      <td>None</td>\n",
       "      <td>769208504</td>\n",
       "      <td>None</td>\n",
       "      <td>False</td>\n",
       "      <td>Baltimore, MD</td>\n",
       "      <td>US</td>\n",
       "      <td>{'type': 'Polygon', 'coordinates': [[[-76.7115...</td>\n",
       "    </tr>\n",
       "  </tbody>\n",
       "</table>\n",
       "<p>5 rows × 55 columns</p>\n",
       "</div>"
      ],
      "text/plain": [
       "  contributors coordinates                      created_at  \\\n",
       "0         None        None  Fri Aug 12 10:04:00 +0000 2016   \n",
       "1         None        None  Fri Aug 12 10:04:02 +0000 2016   \n",
       "2         None        None  Fri Aug 12 10:04:10 +0000 2016   \n",
       "3         None        None  Fri Aug 12 10:04:21 +0000 2016   \n",
       "4         None        None  Fri Aug 12 10:04:30 +0000 2016   \n",
       "\n",
       "                                   extended_entities  favorite_count  \\\n",
       "0  {'media': [{'id': 764039718237409281, 'id_str'...               0   \n",
       "1                                                NaN               0   \n",
       "2  {'media': [{'id': 764039762973896704, 'id_str'...               0   \n",
       "3                                                NaN               0   \n",
       "4                                                NaN               0   \n",
       "\n",
       "   favorited filter_level   geo                  id              id_str  \\\n",
       "0      False          low  None  764039724818272256  764039724818272256   \n",
       "1      False          low  None  764039733076897792  764039733076897792   \n",
       "2      False          low  None  764039769244348417  764039769244348417   \n",
       "3      False          low  None  764039812479225856  764039812479225856   \n",
       "4      False          low  None  764039849850482689  764039849850482689   \n",
       "\n",
       "                         ...                         screen_name  \\\n",
       "0                        ...                             DUPUY77   \n",
       "1                        ...                          redoctapus   \n",
       "2                        ...                             DUPUY77   \n",
       "3                        ...                            jjorgi30   \n",
       "4                        ...                            bspence5   \n",
       "\n",
       "  statuses_count                   time_zone                   url    user_id  \\\n",
       "0          17620                        None  http://ggm-dupuy.com  366636488   \n",
       "1           5046  Eastern Time (US & Canada)                  None   82496193   \n",
       "2          17621                        None  http://ggm-dupuy.com  366636488   \n",
       "3           2231                   Melbourne                  None   44032624   \n",
       "4          92605                        None                  None  769208504   \n",
       "\n",
       "   utc_offset verified            full_name country_code  \\\n",
       "0        None    False        Frontenac, MO           US   \n",
       "1      -14400    False      Baton Rouge, LA           US   \n",
       "2        None    False        Frontenac, MO           US   \n",
       "3       36000    False  Melbourne, Victoria           AU   \n",
       "4        None    False        Baltimore, MD           US   \n",
       "\n",
       "                                        bounding_box  \n",
       "0  {'type': 'Polygon', 'coordinates': [[[-90.4339...  \n",
       "1  {'type': 'Polygon', 'coordinates': [[[-91.2189...  \n",
       "2  {'type': 'Polygon', 'coordinates': [[[-90.4339...  \n",
       "3  {'type': 'Polygon', 'coordinates': [[[144.5937...  \n",
       "4  {'type': 'Polygon', 'coordinates': [[[-76.7115...  \n",
       "\n",
       "[5 rows x 55 columns]"
      ]
     },
     "execution_count": 831,
     "metadata": {},
     "output_type": "execute_result"
    }
   ],
   "source": [
    "#Merge data frame (without dictionaries within dictionaries), user and place dictionary together\n",
    "data_formatted = pd.concat([data_formatted, user_formatted, place_formatted], axis=1)\n",
    "data_formatted.head()"
   ]
  },
  {
   "cell_type": "code",
   "execution_count": 832,
   "metadata": {},
   "outputs": [],
   "source": [
    "#Exclude tweets outside of US (location) - filter on country code US (Country where tweet is posted)\n",
    "data_formatted = data_formatted[data_formatted['country_code'] == \"US\"]\n",
    "#Excluding tweets referring to Clinton & Trump\n",
    "#Getting sentiment score on daily basis "
   ]
  },
  {
   "cell_type": "code",
   "execution_count": null,
   "metadata": {},
   "outputs": [],
   "source": [
    "#Putting state from full_name column into separate column"
   ]
  },
  {
   "cell_type": "code",
   "execution_count": 833,
   "metadata": {},
   "outputs": [],
   "source": [
    "#Determine tags and hashs (some tweets dont have tags only hash)\n",
    "data_formatted['tags_mention'] = data_formatted.text.str.findall(r'(?<![@\\w])@(\\w{1,25})').apply(','.join)\n",
    "data_formatted['hash_mention'] = data_formatted.text.str.findall(r\"#(\\w+)\").apply(','.join)\n",
    "data_formatted['tags_hash'] = data_formatted['hash_mention'] + data_formatted['tags_mention']"
   ]
  },
  {
   "cell_type": "code",
   "execution_count": 834,
   "metadata": {},
   "outputs": [],
   "source": [
    "#Lower cases in tags and hashes\n",
    "data_formatted['tags_hash'] = data_formatted['tags_hash'].apply(lambda x: x.lower())"
   ]
  },
  {
   "cell_type": "code",
   "execution_count": 835,
   "metadata": {},
   "outputs": [],
   "source": [
    "#See if either trum or clinton mentioned in hash or tags\n",
    "data_formatted['Trump'] = data_formatted['tags_hash'].str.contains(r'trump', na=False)\n",
    "data_formatted['Clinton'] = data_formatted['tags_hash'].str.contains(r'clinton', na=False)"
   ]
  },
  {
   "cell_type": "markdown",
   "metadata": {},
   "source": [
    "**SENTIMENT ANALYSIS**"
   ]
  },
  {
   "cell_type": "code",
   "execution_count": 837,
   "metadata": {},
   "outputs": [],
   "source": [
    "import nltk\n",
    "from nltk.corpus import stopwords\n",
    "import random\n",
    "import re"
   ]
  },
  {
   "cell_type": "code",
   "execution_count": 838,
   "metadata": {},
   "outputs": [],
   "source": [
    "#Loading training dataset \n",
    "training_set = pd.read_csv(\"trainingandtestdata/training.1600000.processed.noemoticon.csv\", \n",
    "                 encoding = 'latin-1',\n",
    "                 names = [\"Polarity\", \"Tweet ID\",\"Date\",\"Query\",\"User\",\"Text\"])"
   ]
  },
  {
   "cell_type": "code",
   "execution_count": 839,
   "metadata": {},
   "outputs": [],
   "source": [
    "#Define english stopwords\n",
    "stopwords = stopwords.words('english')"
   ]
  },
  {
   "cell_type": "code",
   "execution_count": 840,
   "metadata": {},
   "outputs": [],
   "source": [
    "#Filter out Polarity Score equal 0 or 4\n",
    "training_set = training_set[(training_set[\"Polarity\"] == 4) | (training_set[\"Polarity\"] == 0)]"
   ]
  },
  {
   "cell_type": "code",
   "execution_count": 841,
   "metadata": {},
   "outputs": [],
   "source": [
    "#Data cleaning - removing punctuation from text; removing tags; removing links\n",
    "training_set['Text'] = training_set['Text'].str.replace('@[^\\s]+','')\n",
    "training_set['Text'] = training_set['Text'].str.replace('[^\\w\\s]','')\n",
    "training_set['Text'] = training_set['Text'].str.replace('\\[.*?\\]','')\n",
    "training_set['Text'] = training_set['Text'].str.replace('[‘’“”…]','')\n",
    "training_set['Text'] = training_set['Text'].str.replace('\\w*\\d\\w*','')"
   ]
  },
  {
   "cell_type": "code",
   "execution_count": 842,
   "metadata": {},
   "outputs": [],
   "source": [
    "#Create data that puts tweet texts together with sentiment score\n",
    "tweets_and_polarity_scores = []\n",
    "for i in range(0, len(training_set)):\n",
    "    if training_set[\"Polarity\"].iloc[i] == 0 or training_set[\"Polarity\"].iloc[i] == 4: \n",
    "        tweet_text = training_set['Text'].iloc[i]\n",
    "        tweet_words_in_list = [e.lower() for e in tweet_text.split()]\n",
    "        tweet_words_in_list_wo_stopwords = [e for e in tweet_words_in_list if not e in stopwords]\n",
    "        tweet_polarity_score = training_set[\"Polarity\"].iloc[i]\n",
    "        tweets_and_polarity_scores.append((tweet_words_in_list_wo_stopwords, tweet_polarity_score))\n",
    "    else: \n",
    "        continue"
   ]
  },
  {
   "cell_type": "code",
   "execution_count": 683,
   "metadata": {},
   "outputs": [],
   "source": [
    "#Select random sample - otherwise the classifier will be too slow\n",
    "random_sample = random.sample(tweets_and_polarity_scores, k = 10000)"
   ]
  },
  {
   "cell_type": "code",
   "execution_count": 684,
   "metadata": {},
   "outputs": [],
   "source": [
    "def get_words_in_tweets(tweets):\n",
    "    all_words= []\n",
    "    for (words, sentiment) in tweets:\n",
    "        all_words.extend(words)\n",
    "    return all_words\n",
    "\n",
    "def get_word_features(wordlist):\n",
    "    wordlist = nltk.FreqDist(wordlist)\n",
    "    word_features = list(wordlist.keys())\n",
    "    return word_features\n",
    "\n",
    "word_features = get_word_features(get_words_in_tweets(random_sample))"
   ]
  },
  {
   "cell_type": "code",
   "execution_count": 685,
   "metadata": {},
   "outputs": [],
   "source": [
    "def extract_features(document):\n",
    "    document_words = set(document)\n",
    "    features = {}\n",
    "    for word in word_features:\n",
    "        features[\"contains(%s)\" % word] = (word in document_words)\n",
    "    return features"
   ]
  },
  {
   "cell_type": "code",
   "execution_count": 686,
   "metadata": {},
   "outputs": [],
   "source": [
    "final_training_set = nltk.classify.apply_features(extract_features, random_sample)"
   ]
  },
  {
   "cell_type": "code",
   "execution_count": 687,
   "metadata": {},
   "outputs": [],
   "source": [
    "#Classifier way too slow atm\n",
    "classifier = nltk.NaiveBayesClassifier.train(final_training_set)"
   ]
  },
  {
   "cell_type": "code",
   "execution_count": 689,
   "metadata": {},
   "outputs": [
    {
     "data": {
      "text/plain": [
       "4"
      ]
     },
     "execution_count": 689,
     "metadata": {},
     "output_type": "execute_result"
    }
   ],
   "source": [
    "#Testing\n",
    "tweet_positive = 'I like Larry'\n",
    "classifier.classify(extract_features(tweet_positive.split()))\n",
    "#classifier.show_most_informative_features(32)"
   ]
  },
  {
   "cell_type": "code",
   "execution_count": 857,
   "metadata": {},
   "outputs": [],
   "source": [
    "#Loading test dataset \n",
    "test_set = pd.read_csv(\"trainingandtestdata/testdata.manual.2009.06.14.csv\", \n",
    "                 encoding = 'latin-1',\n",
    "                 names = [\"Polarity\", \"Tweet ID\",\"Date\",\"Query\",\"User\",\"Text\"])"
   ]
  },
  {
   "cell_type": "code",
   "execution_count": 859,
   "metadata": {},
   "outputs": [],
   "source": [
    "#Data cleaning - removing punctuation from text\n",
    "test_set['Text'] = test_set['Text'].str.replace('@[^\\s]+','')\n",
    "test_set['Text'] = test_set['Text'].str.replace('[^\\w\\s]','')\n",
    "test_set['Text'] = test_set['Text'].str.replace('\\[.*?\\]','')\n",
    "test_set['Text'] = test_set['Text'].str.replace('[‘’“”…]','')\n",
    "test_set['Text'] = test_set['Text'].str.replace('\\w*\\d\\w*','')"
   ]
  },
  {
   "cell_type": "code",
   "execution_count": 861,
   "metadata": {},
   "outputs": [],
   "source": [
    "#Split words in tweets; remove stop words\n",
    "test_set['Text'] = test_set['Text'].apply(lambda x: x.lower())\n",
    "test_set['Text'] = test_set['Text'].apply(lambda x: x.split())\n",
    "test_set['Text'] = test_set['Text'].apply(lambda x: [item for item in x if item not in stop])"
   ]
  },
  {
   "cell_type": "code",
   "execution_count": 863,
   "metadata": {},
   "outputs": [],
   "source": [
    "#Apply classifier to column \n",
    "test_set['classification_polarity'] = test_set['Text'].apply(lambda x: classifier.classify(extract_features(x)))"
   ]
  },
  {
   "cell_type": "code",
   "execution_count": 865,
   "metadata": {},
   "outputs": [
    {
     "data": {
      "text/html": [
       "<div>\n",
       "<style scoped>\n",
       "    .dataframe tbody tr th:only-of-type {\n",
       "        vertical-align: middle;\n",
       "    }\n",
       "\n",
       "    .dataframe tbody tr th {\n",
       "        vertical-align: top;\n",
       "    }\n",
       "\n",
       "    .dataframe thead th {\n",
       "        text-align: right;\n",
       "    }\n",
       "</style>\n",
       "<table border=\"1\" class=\"dataframe\">\n",
       "  <thead>\n",
       "    <tr style=\"text-align: right;\">\n",
       "      <th></th>\n",
       "      <th>Polarity</th>\n",
       "      <th>Tweet ID</th>\n",
       "      <th>Date</th>\n",
       "      <th>Query</th>\n",
       "      <th>User</th>\n",
       "      <th>Text</th>\n",
       "      <th>classification_polarity</th>\n",
       "    </tr>\n",
       "  </thead>\n",
       "  <tbody>\n",
       "    <tr>\n",
       "      <th>0</th>\n",
       "      <td>4</td>\n",
       "      <td>3</td>\n",
       "      <td>Mon May 11 03:17:40 UTC 2009</td>\n",
       "      <td>kindle2</td>\n",
       "      <td>tpryan</td>\n",
       "      <td>[loooooooovvvvvveee, dx, cool, fantastic, right]</td>\n",
       "      <td>4</td>\n",
       "    </tr>\n",
       "    <tr>\n",
       "      <th>1</th>\n",
       "      <td>4</td>\n",
       "      <td>4</td>\n",
       "      <td>Mon May 11 03:18:03 UTC 2009</td>\n",
       "      <td>kindle2</td>\n",
       "      <td>vcu451</td>\n",
       "      <td>[reading, love, lee, childs, good, read]</td>\n",
       "      <td>4</td>\n",
       "    </tr>\n",
       "    <tr>\n",
       "      <th>2</th>\n",
       "      <td>4</td>\n",
       "      <td>5</td>\n",
       "      <td>Mon May 11 03:18:54 UTC 2009</td>\n",
       "      <td>kindle2</td>\n",
       "      <td>chadfu</td>\n",
       "      <td>[ok, first, assesment, fucking, rocks]</td>\n",
       "      <td>4</td>\n",
       "    </tr>\n",
       "    <tr>\n",
       "      <th>3</th>\n",
       "      <td>4</td>\n",
       "      <td>6</td>\n",
       "      <td>Mon May 11 03:19:04 UTC 2009</td>\n",
       "      <td>kindle2</td>\n",
       "      <td>SIX15</td>\n",
       "      <td>[youll, love, ive, mine, months, never, looked...</td>\n",
       "      <td>0</td>\n",
       "    </tr>\n",
       "    <tr>\n",
       "      <th>4</th>\n",
       "      <td>4</td>\n",
       "      <td>7</td>\n",
       "      <td>Mon May 11 03:21:41 UTC 2009</td>\n",
       "      <td>kindle2</td>\n",
       "      <td>yamarama</td>\n",
       "      <td>[fair, enough, think, perfect]</td>\n",
       "      <td>4</td>\n",
       "    </tr>\n",
       "  </tbody>\n",
       "</table>\n",
       "</div>"
      ],
      "text/plain": [
       "   Polarity  Tweet ID                          Date    Query      User  \\\n",
       "0         4         3  Mon May 11 03:17:40 UTC 2009  kindle2    tpryan   \n",
       "1         4         4  Mon May 11 03:18:03 UTC 2009  kindle2    vcu451   \n",
       "2         4         5  Mon May 11 03:18:54 UTC 2009  kindle2    chadfu   \n",
       "3         4         6  Mon May 11 03:19:04 UTC 2009  kindle2     SIX15   \n",
       "4         4         7  Mon May 11 03:21:41 UTC 2009  kindle2  yamarama   \n",
       "\n",
       "                                                Text  classification_polarity  \n",
       "0   [loooooooovvvvvveee, dx, cool, fantastic, right]                        4  \n",
       "1           [reading, love, lee, childs, good, read]                        4  \n",
       "2             [ok, first, assesment, fucking, rocks]                        4  \n",
       "3  [youll, love, ive, mine, months, never, looked...                        0  \n",
       "4                     [fair, enough, think, perfect]                        4  "
      ]
     },
     "execution_count": 865,
     "metadata": {},
     "output_type": "execute_result"
    }
   ],
   "source": [
    "test_set.head()"
   ]
  },
  {
   "cell_type": "markdown",
   "metadata": {},
   "source": [
    "**Topic Modelling - LDA**"
   ]
  },
  {
   "cell_type": "code",
   "execution_count": null,
   "metadata": {},
   "outputs": [],
   "source": []
  },
  {
   "cell_type": "code",
   "execution_count": null,
   "metadata": {},
   "outputs": [],
   "source": []
  }
 ],
 "metadata": {
  "kernelspec": {
   "display_name": "Python 3",
   "language": "python",
   "name": "python3"
  },
  "language_info": {
   "codemirror_mode": {
    "name": "ipython",
    "version": 3
   },
   "file_extension": ".py",
   "mimetype": "text/x-python",
   "name": "python",
   "nbconvert_exporter": "python",
   "pygments_lexer": "ipython3",
   "version": "3.7.1"
  }
 },
 "nbformat": 4,
 "nbformat_minor": 2
}
