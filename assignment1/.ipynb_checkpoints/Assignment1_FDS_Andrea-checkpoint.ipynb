{
 "cells": [
  {
   "cell_type": "code",
   "execution_count": 1,
   "metadata": {},
   "outputs": [],
   "source": [
    "import os\n",
    "import tarfile\n",
    "import json\n",
    "import pandas as pd"
   ]
  },
  {
   "cell_type": "code",
   "execution_count": 89,
   "metadata": {},
   "outputs": [],
   "source": [
    "#Set WD\n",
    "os.chdir(\"/Users/andreaprenner/Desktop/Master_UvA/1. Semester/FundamentalsOfDS/Assignment1\")"
   ]
  },
  {
   "cell_type": "code",
   "execution_count": 94,
   "metadata": {},
   "outputs": [],
   "source": [
    "tar = tarfile.open(\"geotagged_tweets_20160812-0912.tar.gz\")\n",
    "files = tar.getmembers()"
   ]
  },
  {
   "cell_type": "code",
   "execution_count": 561,
   "metadata": {},
   "outputs": [],
   "source": [
    "f = tar.extractfile(files[0]) \n",
    "data = f.readlines()"
   ]
  },
  {
   "cell_type": "code",
   "execution_count": 623,
   "metadata": {},
   "outputs": [
    {
     "data": {
      "text/plain": [
       "{'created_at': 'Fri Aug 12 10:04:00 +0000 2016',\n",
       " 'id': 764039724818272256,\n",
       " 'id_str': '764039724818272256',\n",
       " 'text': '@theblaze @realDonaldTrump https://t.co/TY9DlZ584c',\n",
       " 'source': '<a href=\"http://twitter.com/download/iphone\" rel=\"nofollow\">Twitter for iPhone</a>',\n",
       " 'truncated': False,\n",
       " 'in_reply_to_status_id': 764038820476051456,\n",
       " 'in_reply_to_status_id_str': '764038820476051456',\n",
       " 'in_reply_to_user_id': 10774652,\n",
       " 'in_reply_to_user_id_str': '10774652',\n",
       " 'in_reply_to_screen_name': 'theblaze',\n",
       " 'user': {'id': 366636488,\n",
       "  'id_str': '366636488',\n",
       "  'name': 'GIL DUPUY',\n",
       "  'screen_name': 'DUPUY77',\n",
       "  'location': 'Miami',\n",
       "  'url': 'http://ggm-dupuy.com',\n",
       "  'description': \"Fashion photographer, love action and adventure, care for the less fortunate, don't tolerate any kind of racism regardless of race or religion\",\n",
       "  'protected': False,\n",
       "  'verified': False,\n",
       "  'followers_count': 186,\n",
       "  'friends_count': 446,\n",
       "  'listed_count': 19,\n",
       "  'favourites_count': 1708,\n",
       "  'statuses_count': 17620,\n",
       "  'created_at': 'Fri Sep 02 14:54:17 +0000 2011',\n",
       "  'utc_offset': None,\n",
       "  'time_zone': None,\n",
       "  'geo_enabled': True,\n",
       "  'lang': 'en',\n",
       "  'contributors_enabled': False,\n",
       "  'is_translator': False,\n",
       "  'profile_background_color': '131516',\n",
       "  'profile_background_image_url': 'http://abs.twimg.com/images/themes/theme14/bg.gif',\n",
       "  'profile_background_image_url_https': 'https://abs.twimg.com/images/themes/theme14/bg.gif',\n",
       "  'profile_background_tile': True,\n",
       "  'profile_link_color': '009999',\n",
       "  'profile_sidebar_border_color': 'EEEEEE',\n",
       "  'profile_sidebar_fill_color': 'EFEFEF',\n",
       "  'profile_text_color': '333333',\n",
       "  'profile_use_background_image': True,\n",
       "  'profile_image_url': 'http://pbs.twimg.com/profile_images/760915612910497792/bz4WtvbZ_normal.jpg',\n",
       "  'profile_image_url_https': 'https://pbs.twimg.com/profile_images/760915612910497792/bz4WtvbZ_normal.jpg',\n",
       "  'default_profile': False,\n",
       "  'default_profile_image': False,\n",
       "  'following': None,\n",
       "  'follow_request_sent': None,\n",
       "  'notifications': None},\n",
       " 'geo': None,\n",
       " 'coordinates': None,\n",
       " 'place': {'id': '29a119f18820c3ad',\n",
       "  'url': 'https://api.twitter.com/1.1/geo/id/29a119f18820c3ad.json',\n",
       "  'place_type': 'city',\n",
       "  'name': 'Frontenac',\n",
       "  'full_name': 'Frontenac, MO',\n",
       "  'country_code': 'US',\n",
       "  'country': 'United States',\n",
       "  'bounding_box': {'type': 'Polygon',\n",
       "   'coordinates': [[[-90.433909, 38.606163],\n",
       "     [-90.433909, 38.647891],\n",
       "     [-90.405462, 38.647891],\n",
       "     [-90.405462, 38.606163]]]},\n",
       "  'attributes': {}},\n",
       " 'contributors': None,\n",
       " 'is_quote_status': False,\n",
       " 'retweet_count': 0,\n",
       " 'favorite_count': 0,\n",
       " 'entities': {'hashtags': [],\n",
       "  'urls': [],\n",
       "  'user_mentions': [{'screen_name': 'theblaze',\n",
       "    'name': 'TheBlaze',\n",
       "    'id': 10774652,\n",
       "    'id_str': '10774652',\n",
       "    'indices': [0, 9]},\n",
       "   {'screen_name': 'realDonaldTrump',\n",
       "    'name': 'Donald J. Trump',\n",
       "    'id': 25073877,\n",
       "    'id_str': '25073877',\n",
       "    'indices': [10, 26]}],\n",
       "  'symbols': [],\n",
       "  'media': [{'id': 764039718237409281,\n",
       "    'id_str': '764039718237409281',\n",
       "    'indices': [27, 50],\n",
       "    'media_url': 'http://pbs.twimg.com/media/CppqE1_UkAE2qFj.jpg',\n",
       "    'media_url_https': 'https://pbs.twimg.com/media/CppqE1_UkAE2qFj.jpg',\n",
       "    'url': 'https://t.co/TY9DlZ584c',\n",
       "    'display_url': 'pic.twitter.com/TY9DlZ584c',\n",
       "    'expanded_url': 'http://twitter.com/DUPUY77/status/764039724818272256/photo/1',\n",
       "    'type': 'photo',\n",
       "    'sizes': {'medium': {'w': 640, 'h': 1136, 'resize': 'fit'},\n",
       "     'large': {'w': 640, 'h': 1136, 'resize': 'fit'},\n",
       "     'thumb': {'w': 150, 'h': 150, 'resize': 'crop'},\n",
       "     'small': {'w': 383, 'h': 680, 'resize': 'fit'}}}]},\n",
       " 'extended_entities': {'media': [{'id': 764039718237409281,\n",
       "    'id_str': '764039718237409281',\n",
       "    'indices': [27, 50],\n",
       "    'media_url': 'http://pbs.twimg.com/media/CppqE1_UkAE2qFj.jpg',\n",
       "    'media_url_https': 'https://pbs.twimg.com/media/CppqE1_UkAE2qFj.jpg',\n",
       "    'url': 'https://t.co/TY9DlZ584c',\n",
       "    'display_url': 'pic.twitter.com/TY9DlZ584c',\n",
       "    'expanded_url': 'http://twitter.com/DUPUY77/status/764039724818272256/photo/1',\n",
       "    'type': 'photo',\n",
       "    'sizes': {'medium': {'w': 640, 'h': 1136, 'resize': 'fit'},\n",
       "     'large': {'w': 640, 'h': 1136, 'resize': 'fit'},\n",
       "     'thumb': {'w': 150, 'h': 150, 'resize': 'crop'},\n",
       "     'small': {'w': 383, 'h': 680, 'resize': 'fit'}}}]},\n",
       " 'favorited': False,\n",
       " 'retweeted': False,\n",
       " 'possibly_sensitive': False,\n",
       " 'filter_level': 'low',\n",
       " 'lang': 'und',\n",
       " 'timestamp_ms': '1470996240225'}"
      ]
     },
     "execution_count": 623,
     "metadata": {},
     "output_type": "execute_result"
    }
   ],
   "source": [
    "json.loads(data[0])"
   ]
  },
  {
   "cell_type": "code",
   "execution_count": 614,
   "metadata": {},
   "outputs": [],
   "source": [
    "#Open questions: How to integrate user_mentions (entities - user_mentions) entries \n",
    "#(user_mentions is not in final data frame) and place (esp. coordinates) in data frame\n",
    "#Filtering out bots\n",
    "#Formatting text - removing stop words\n",
    "data_formatted = []\n",
    "for i in range(0, 100): \n",
    "    data_f = json.loads(data[i])\n",
    "    user = data_f['user']\n",
    "    user = pd.DataFrame([user])\n",
    "    user = user.drop('id_str', axis=1)\n",
    "    place = data_f['place']\n",
    "    place = pd.DataFrame([place])\n",
    "    place = place[['full_name', 'country_code', 'bounding_box']]\n",
    "    unwanted = set(['user', 'place', 'entities'])\n",
    "    for unwanted_key in unwanted: del data_f[unwanted_key]\n",
    "    data_pre = pd.DataFrame([data_f])\n",
    "    user = user.rename({'id':'user_id'}, axis=1)\n",
    "    #user['id'] = data_f['id']\n",
    "    if i == 0: \n",
    "        data_formatted = data_pre\n",
    "        user_formatted = user\n",
    "        place_formatted = place\n",
    "    else:\n",
    "        data_formatted = data_formatted.append(data_pre, ignore_index=True)\n",
    "        user_formatted = user_formatted.append(user, ignore_index=True)\n",
    "        place_formatted = place_formatted.append(place, ignore_index=True)"
   ]
  },
  {
   "cell_type": "code",
   "execution_count": 620,
   "metadata": {},
   "outputs": [
    {
     "data": {
      "text/plain": [
       "Index(['contributors', 'coordinates', 'created_at', 'extended_entities',\n",
       "       'favorite_count', 'favorited', 'filter_level', 'geo', 'id', 'id_str',\n",
       "       ...\n",
       "       'screen_name', 'statuses_count', 'time_zone', 'url', 'user_id',\n",
       "       'utc_offset', 'verified', 'full_name', 'country_code', 'bounding_box'],\n",
       "      dtype='object', length=267)"
      ]
     },
     "execution_count": 620,
     "metadata": {},
     "output_type": "execute_result"
    }
   ],
   "source": [
    "data_formatted = pd.concat([data_formatted, user_formatted, place_formatted], axis=1)"
   ]
  },
  {
   "cell_type": "markdown",
   "metadata": {},
   "source": [
    "**SENTIMENT ANALYSIS**"
   ]
  },
  {
   "cell_type": "code",
   "execution_count": 543,
   "metadata": {},
   "outputs": [],
   "source": [
    "#Import NLTK \n",
    "import nltk\n",
    "from nltk.corpus import stopwords\n",
    "import random"
   ]
  },
  {
   "cell_type": "code",
   "execution_count": 544,
   "metadata": {},
   "outputs": [],
   "source": [
    "#Training sentiment \n",
    "training_set = pd.read_csv(\"trainingandtestdata/training.1600000.processed.noemoticon.csv\", \n",
    "                 encoding = 'latin-1',\n",
    "                 names = [\"Polarity\", \"Tweet ID\",\"Date\",\"Query\",\"User\",\"Text\"])"
   ]
  },
  {
   "cell_type": "code",
   "execution_count": 545,
   "metadata": {},
   "outputs": [],
   "source": [
    "#Filter out stop words in text column\n",
    "from nltk.corpus import stopwords\n",
    "stopwords = stopwords.words('english')"
   ]
  },
  {
   "cell_type": "code",
   "execution_count": 546,
   "metadata": {},
   "outputs": [],
   "source": [
    "#Create data that puts tweet texts together with sentiment score\n",
    "tweets_and_polarity_scores = []\n",
    "for i in range(0, len(training_set)):\n",
    "    if training_set[\"Polarity\"].iloc[i] == 0 or training_set[\"Polarity\"].iloc[i] == 4: \n",
    "        tweet_text = training_set['Text'].iloc[i]\n",
    "        tweet_words_in_list = [e.lower() for e in tweet_text.split()]\n",
    "        tweet_words_in_list_wo_stopwords = [e for e in tweet_words_in_list if not e in stopwords]\n",
    "        tweet_polarity_score = training_set[\"Polarity\"].iloc[i]\n",
    "        tweets_and_polarity_scores.append((tweet_words_in_list_wo_stopwords, tweet_polarity_score))\n",
    "    else: \n",
    "        continue"
   ]
  },
  {
   "cell_type": "code",
   "execution_count": 547,
   "metadata": {},
   "outputs": [],
   "source": [
    "random_sample = random.sample(tweets_and_polarity_scores, k = 1000)"
   ]
  },
  {
   "cell_type": "code",
   "execution_count": 548,
   "metadata": {},
   "outputs": [],
   "source": [
    "def get_words_in_tweets(tweets):\n",
    "    all_words= []\n",
    "    for (words, sentiment) in tweets:\n",
    "        all_words.extend(words)\n",
    "    return all_words\n",
    "\n",
    "def get_word_features(wordlist):\n",
    "    wordlist = nltk.FreqDist(wordlist)\n",
    "    word_features = list(wordlist.keys())\n",
    "    return word_features\n",
    "\n",
    "word_features = get_word_features(get_words_in_tweets(random_sample))"
   ]
  },
  {
   "cell_type": "code",
   "execution_count": 549,
   "metadata": {},
   "outputs": [],
   "source": [
    "def extract_features(document):\n",
    "    document_words = set(document)\n",
    "    features = {}\n",
    "    for word in word_features:\n",
    "        features[\"contains(%s)\" % word] = (word in document_words)\n",
    "    return features"
   ]
  },
  {
   "cell_type": "code",
   "execution_count": 550,
   "metadata": {},
   "outputs": [],
   "source": [
    "final_training_set = nltk.classify.apply_features(extract_features, random_sample)"
   ]
  },
  {
   "cell_type": "code",
   "execution_count": 551,
   "metadata": {},
   "outputs": [],
   "source": [
    "classifier = nltk.NaiveBayesClassifier.train(final_training_set)"
   ]
  },
  {
   "cell_type": "code",
   "execution_count": 559,
   "metadata": {},
   "outputs": [
    {
     "data": {
      "text/plain": [
       "0"
      ]
     },
     "execution_count": 559,
     "metadata": {},
     "output_type": "execute_result"
    }
   ],
   "source": [
    "#Testing\n",
    "tweet_positive = 'I dont like Larry'\n",
    "classifier.classify(extract_features(tweet_positive.split()))\n",
    "#classifier.show_most_informative_features(32)"
   ]
  }
 ],
 "metadata": {
  "kernelspec": {
   "display_name": "Python 3",
   "language": "python",
   "name": "python3"
  },
  "language_info": {
   "codemirror_mode": {
    "name": "ipython",
    "version": 3
   },
   "file_extension": ".py",
   "mimetype": "text/x-python",
   "name": "python",
   "nbconvert_exporter": "python",
   "pygments_lexer": "ipython3",
   "version": "3.7.4"
  }
 },
 "nbformat": 4,
 "nbformat_minor": 2
}
