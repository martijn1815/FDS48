{
 "cells": [
  {
   "cell_type": "code",
   "execution_count": 1,
   "metadata": {},
   "outputs": [],
   "source": [
    "import os\n",
    "import tarfile\n",
    "import json\n",
    "import pandas as pd"
   ]
  },
  {
   "cell_type": "code",
   "execution_count": 2,
   "metadata": {},
   "outputs": [],
   "source": [
    "#Set WD\n",
    "os.chdir(\"/Users/andreaprenner/Desktop/Master_UvA/1. Semester/FundamentalsOfDS/Assignment1\")"
   ]
  },
  {
   "cell_type": "code",
   "execution_count": 3,
   "metadata": {},
   "outputs": [],
   "source": [
    "tar = tarfile.open(\"geotagged_tweets_20160812-0912.tar.gz\")\n",
    "files = tar.getmembers()"
   ]
  },
  {
   "cell_type": "code",
   "execution_count": 4,
   "metadata": {},
   "outputs": [],
   "source": [
    "f = tar.extractfile(files[0]) \n",
    "data = f.readlines()"
   ]
  },
  {
   "cell_type": "code",
   "execution_count": 5,
   "metadata": {},
   "outputs": [
    {
     "data": {
      "text/plain": [
       "657307"
      ]
     },
     "execution_count": 5,
     "metadata": {},
     "output_type": "execute_result"
    }
   ],
   "source": [
    "#Total entries in data\n",
    "len(data)"
   ]
  },
  {
   "cell_type": "code",
   "execution_count": 5,
   "metadata": {},
   "outputs": [
    {
     "data": {
      "text/plain": [
       "dict_keys(['created_at', 'id', 'id_str', 'text', 'source', 'truncated', 'in_reply_to_status_id', 'in_reply_to_status_id_str', 'in_reply_to_user_id', 'in_reply_to_user_id_str', 'in_reply_to_screen_name', 'user', 'geo', 'coordinates', 'place', 'contributors', 'is_quote_status', 'retweet_count', 'favorite_count', 'entities', 'extended_entities', 'favorited', 'retweeted', 'possibly_sensitive', 'filter_level', 'lang', 'timestamp_ms'])"
      ]
     },
     "execution_count": 5,
     "metadata": {},
     "output_type": "execute_result"
    }
   ],
   "source": [
    "#First entry\n",
    "json.loads(data[0]).keys()"
   ]
  },
  {
   "cell_type": "code",
   "execution_count": 10,
   "metadata": {},
   "outputs": [
    {
     "data": {
      "text/plain": [
       "b'{\"created_at\":\"Fri Aug 12 10:04:00 +0000 2016\",\"id\":764039724818272256,\"id_str\":\"764039724818272256\",\"text\":\"@theblaze @realDonaldTrump https:\\\\/\\\\/t.co\\\\/TY9DlZ584c\",\"source\":\"\\\\u003ca href=\\\\\"http:\\\\/\\\\/twitter.com\\\\/download\\\\/iphone\\\\\" rel=\\\\\"nofollow\\\\\"\\\\u003eTwitter for iPhone\\\\u003c\\\\/a\\\\u003e\",\"truncated\":false,\"in_reply_to_status_id\":764038820476051456,\"in_reply_to_status_id_str\":\"764038820476051456\",\"in_reply_to_user_id\":10774652,\"in_reply_to_user_id_str\":\"10774652\",\"in_reply_to_screen_name\":\"theblaze\",\"user\":{\"id\":366636488,\"id_str\":\"366636488\",\"name\":\"GIL DUPUY\",\"screen_name\":\"DUPUY77\",\"location\":\"Miami\",\"url\":\"http:\\\\/\\\\/ggm-dupuy.com\",\"description\":\"Fashion photographer, love action and adventure, care for the less fortunate, don\\'t tolerate any kind of racism regardless of race or religion\",\"protected\":false,\"verified\":false,\"followers_count\":186,\"friends_count\":446,\"listed_count\":19,\"favourites_count\":1708,\"statuses_count\":17620,\"created_at\":\"Fri Sep 02 14:54:17 +0000 2011\",\"utc_offset\":null,\"time_zone\":null,\"geo_enabled\":true,\"lang\":\"en\",\"contributors_enabled\":false,\"is_translator\":false,\"profile_background_color\":\"131516\",\"profile_background_image_url\":\"http:\\\\/\\\\/abs.twimg.com\\\\/images\\\\/themes\\\\/theme14\\\\/bg.gif\",\"profile_background_image_url_https\":\"https:\\\\/\\\\/abs.twimg.com\\\\/images\\\\/themes\\\\/theme14\\\\/bg.gif\",\"profile_background_tile\":true,\"profile_link_color\":\"009999\",\"profile_sidebar_border_color\":\"EEEEEE\",\"profile_sidebar_fill_color\":\"EFEFEF\",\"profile_text_color\":\"333333\",\"profile_use_background_image\":true,\"profile_image_url\":\"http:\\\\/\\\\/pbs.twimg.com\\\\/profile_images\\\\/760915612910497792\\\\/bz4WtvbZ_normal.jpg\",\"profile_image_url_https\":\"https:\\\\/\\\\/pbs.twimg.com\\\\/profile_images\\\\/760915612910497792\\\\/bz4WtvbZ_normal.jpg\",\"default_profile\":false,\"default_profile_image\":false,\"following\":null,\"follow_request_sent\":null,\"notifications\":null},\"geo\":null,\"coordinates\":null,\"place\":{\"id\":\"29a119f18820c3ad\",\"url\":\"https:\\\\/\\\\/api.twitter.com\\\\/1.1\\\\/geo\\\\/id\\\\/29a119f18820c3ad.json\",\"place_type\":\"city\",\"name\":\"Frontenac\",\"full_name\":\"Frontenac, MO\",\"country_code\":\"US\",\"country\":\"United States\",\"bounding_box\":{\"type\":\"Polygon\",\"coordinates\":[[[-90.433909,38.606163],[-90.433909,38.647891],[-90.405462,38.647891],[-90.405462,38.606163]]]},\"attributes\":{}},\"contributors\":null,\"is_quote_status\":false,\"retweet_count\":0,\"favorite_count\":0,\"entities\":{\"hashtags\":[],\"urls\":[],\"user_mentions\":[{\"screen_name\":\"theblaze\",\"name\":\"TheBlaze\",\"id\":10774652,\"id_str\":\"10774652\",\"indices\":[0,9]},{\"screen_name\":\"realDonaldTrump\",\"name\":\"Donald J. Trump\",\"id\":25073877,\"id_str\":\"25073877\",\"indices\":[10,26]}],\"symbols\":[],\"media\":[{\"id\":764039718237409281,\"id_str\":\"764039718237409281\",\"indices\":[27,50],\"media_url\":\"http:\\\\/\\\\/pbs.twimg.com\\\\/media\\\\/CppqE1_UkAE2qFj.jpg\",\"media_url_https\":\"https:\\\\/\\\\/pbs.twimg.com\\\\/media\\\\/CppqE1_UkAE2qFj.jpg\",\"url\":\"https:\\\\/\\\\/t.co\\\\/TY9DlZ584c\",\"display_url\":\"pic.twitter.com\\\\/TY9DlZ584c\",\"expanded_url\":\"http:\\\\/\\\\/twitter.com\\\\/DUPUY77\\\\/status\\\\/764039724818272256\\\\/photo\\\\/1\",\"type\":\"photo\",\"sizes\":{\"medium\":{\"w\":640,\"h\":1136,\"resize\":\"fit\"},\"large\":{\"w\":640,\"h\":1136,\"resize\":\"fit\"},\"thumb\":{\"w\":150,\"h\":150,\"resize\":\"crop\"},\"small\":{\"w\":383,\"h\":680,\"resize\":\"fit\"}}}]},\"extended_entities\":{\"media\":[{\"id\":764039718237409281,\"id_str\":\"764039718237409281\",\"indices\":[27,50],\"media_url\":\"http:\\\\/\\\\/pbs.twimg.com\\\\/media\\\\/CppqE1_UkAE2qFj.jpg\",\"media_url_https\":\"https:\\\\/\\\\/pbs.twimg.com\\\\/media\\\\/CppqE1_UkAE2qFj.jpg\",\"url\":\"https:\\\\/\\\\/t.co\\\\/TY9DlZ584c\",\"display_url\":\"pic.twitter.com\\\\/TY9DlZ584c\",\"expanded_url\":\"http:\\\\/\\\\/twitter.com\\\\/DUPUY77\\\\/status\\\\/764039724818272256\\\\/photo\\\\/1\",\"type\":\"photo\",\"sizes\":{\"medium\":{\"w\":640,\"h\":1136,\"resize\":\"fit\"},\"large\":{\"w\":640,\"h\":1136,\"resize\":\"fit\"},\"thumb\":{\"w\":150,\"h\":150,\"resize\":\"crop\"},\"small\":{\"w\":383,\"h\":680,\"resize\":\"fit\"}}}]},\"favorited\":false,\"retweeted\":false,\"possibly_sensitive\":false,\"filter_level\":\"low\",\"lang\":\"und\",\"timestamp_ms\":\"1470996240225\"}\\r\\n'"
      ]
     },
     "execution_count": 10,
     "metadata": {},
     "output_type": "execute_result"
    }
   ],
   "source": [
    "data[0]"
   ]
  },
  {
   "cell_type": "code",
   "execution_count": 13,
   "metadata": {},
   "outputs": [
    {
     "data": {
      "text/plain": [
       "{'created_at': 'Fri Aug 12 10:04:10 +0000 2016',\n",
       " 'id': 764039769244348417,\n",
       " 'id_str': '764039769244348417',\n",
       " 'text': '@theblaze @realDonaldTrump https://t.co/n050DBSpv0',\n",
       " 'source': '<a href=\"http://twitter.com/download/iphone\" rel=\"nofollow\">Twitter for iPhone</a>',\n",
       " 'truncated': False,\n",
       " 'in_reply_to_status_id': 764038820476051456,\n",
       " 'in_reply_to_status_id_str': '764038820476051456',\n",
       " 'in_reply_to_user_id': 10774652,\n",
       " 'in_reply_to_user_id_str': '10774652',\n",
       " 'in_reply_to_screen_name': 'theblaze',\n",
       " 'user': {'id': 366636488,\n",
       "  'id_str': '366636488',\n",
       "  'name': 'GIL DUPUY',\n",
       "  'screen_name': 'DUPUY77',\n",
       "  'location': 'Miami',\n",
       "  'url': 'http://ggm-dupuy.com',\n",
       "  'description': \"Fashion photographer, love action and adventure, care for the less fortunate, don't tolerate any kind of racism regardless of race or religion\",\n",
       "  'protected': False,\n",
       "  'verified': False,\n",
       "  'followers_count': 186,\n",
       "  'friends_count': 446,\n",
       "  'listed_count': 19,\n",
       "  'favourites_count': 1708,\n",
       "  'statuses_count': 17621,\n",
       "  'created_at': 'Fri Sep 02 14:54:17 +0000 2011',\n",
       "  'utc_offset': None,\n",
       "  'time_zone': None,\n",
       "  'geo_enabled': True,\n",
       "  'lang': 'en',\n",
       "  'contributors_enabled': False,\n",
       "  'is_translator': False,\n",
       "  'profile_background_color': '131516',\n",
       "  'profile_background_image_url': 'http://abs.twimg.com/images/themes/theme14/bg.gif',\n",
       "  'profile_background_image_url_https': 'https://abs.twimg.com/images/themes/theme14/bg.gif',\n",
       "  'profile_background_tile': True,\n",
       "  'profile_link_color': '009999',\n",
       "  'profile_sidebar_border_color': 'EEEEEE',\n",
       "  'profile_sidebar_fill_color': 'EFEFEF',\n",
       "  'profile_text_color': '333333',\n",
       "  'profile_use_background_image': True,\n",
       "  'profile_image_url': 'http://pbs.twimg.com/profile_images/760915612910497792/bz4WtvbZ_normal.jpg',\n",
       "  'profile_image_url_https': 'https://pbs.twimg.com/profile_images/760915612910497792/bz4WtvbZ_normal.jpg',\n",
       "  'default_profile': False,\n",
       "  'default_profile_image': False,\n",
       "  'following': None,\n",
       "  'follow_request_sent': None,\n",
       "  'notifications': None},\n",
       " 'geo': None,\n",
       " 'coordinates': None,\n",
       " 'place': {'id': '29a119f18820c3ad',\n",
       "  'url': 'https://api.twitter.com/1.1/geo/id/29a119f18820c3ad.json',\n",
       "  'place_type': 'city',\n",
       "  'name': 'Frontenac',\n",
       "  'full_name': 'Frontenac, MO',\n",
       "  'country_code': 'US',\n",
       "  'country': 'United States',\n",
       "  'bounding_box': {'type': 'Polygon',\n",
       "   'coordinates': [[[-90.433909, 38.606163],\n",
       "     [-90.433909, 38.647891],\n",
       "     [-90.405462, 38.647891],\n",
       "     [-90.405462, 38.606163]]]},\n",
       "  'attributes': {}},\n",
       " 'contributors': None,\n",
       " 'is_quote_status': False,\n",
       " 'retweet_count': 0,\n",
       " 'favorite_count': 0,\n",
       " 'entities': {'hashtags': [],\n",
       "  'urls': [],\n",
       "  'user_mentions': [{'screen_name': 'theblaze',\n",
       "    'name': 'TheBlaze',\n",
       "    'id': 10774652,\n",
       "    'id_str': '10774652',\n",
       "    'indices': [0, 9]},\n",
       "   {'screen_name': 'realDonaldTrump',\n",
       "    'name': 'Donald J. Trump',\n",
       "    'id': 25073877,\n",
       "    'id_str': '25073877',\n",
       "    'indices': [10, 26]}],\n",
       "  'symbols': [],\n",
       "  'media': [{'id': 764039762973896704,\n",
       "    'id_str': '764039762973896704',\n",
       "    'indices': [27, 50],\n",
       "    'media_url': 'http://pbs.twimg.com/media/CppqHcpVMAAhyCg.jpg',\n",
       "    'media_url_https': 'https://pbs.twimg.com/media/CppqHcpVMAAhyCg.jpg',\n",
       "    'url': 'https://t.co/n050DBSpv0',\n",
       "    'display_url': 'pic.twitter.com/n050DBSpv0',\n",
       "    'expanded_url': 'http://twitter.com/DUPUY77/status/764039769244348417/photo/1',\n",
       "    'type': 'photo',\n",
       "    'sizes': {'medium': {'w': 640, 'h': 1136, 'resize': 'fit'},\n",
       "     'large': {'w': 640, 'h': 1136, 'resize': 'fit'},\n",
       "     'thumb': {'w': 150, 'h': 150, 'resize': 'crop'},\n",
       "     'small': {'w': 383, 'h': 680, 'resize': 'fit'}}}]},\n",
       " 'extended_entities': {'media': [{'id': 764039762973896704,\n",
       "    'id_str': '764039762973896704',\n",
       "    'indices': [27, 50],\n",
       "    'media_url': 'http://pbs.twimg.com/media/CppqHcpVMAAhyCg.jpg',\n",
       "    'media_url_https': 'https://pbs.twimg.com/media/CppqHcpVMAAhyCg.jpg',\n",
       "    'url': 'https://t.co/n050DBSpv0',\n",
       "    'display_url': 'pic.twitter.com/n050DBSpv0',\n",
       "    'expanded_url': 'http://twitter.com/DUPUY77/status/764039769244348417/photo/1',\n",
       "    'type': 'photo',\n",
       "    'sizes': {'medium': {'w': 640, 'h': 1136, 'resize': 'fit'},\n",
       "     'large': {'w': 640, 'h': 1136, 'resize': 'fit'},\n",
       "     'thumb': {'w': 150, 'h': 150, 'resize': 'crop'},\n",
       "     'small': {'w': 383, 'h': 680, 'resize': 'fit'}}}]},\n",
       " 'favorited': False,\n",
       " 'retweeted': False,\n",
       " 'possibly_sensitive': False,\n",
       " 'filter_level': 'low',\n",
       " 'lang': 'und',\n",
       " 'timestamp_ms': '1470996250817'}"
      ]
     },
     "execution_count": 13,
     "metadata": {},
     "output_type": "execute_result"
    }
   ],
   "source": [
    "json.loads(data[2])"
   ]
  },
  {
   "cell_type": "code",
   "execution_count": 11,
   "metadata": {},
   "outputs": [
    {
     "data": {
      "text/plain": [
       "{'created_at': 'Fri Aug 12 10:04:00 +0000 2016',\n",
       " 'id': 764039724818272256,\n",
       " 'id_str': '764039724818272256',\n",
       " 'text': '@theblaze @realDonaldTrump https://t.co/TY9DlZ584c',\n",
       " 'source': '<a href=\"http://twitter.com/download/iphone\" rel=\"nofollow\">Twitter for iPhone</a>',\n",
       " 'truncated': False,\n",
       " 'in_reply_to_status_id': 764038820476051456,\n",
       " 'in_reply_to_status_id_str': '764038820476051456',\n",
       " 'in_reply_to_user_id': 10774652,\n",
       " 'in_reply_to_user_id_str': '10774652',\n",
       " 'in_reply_to_screen_name': 'theblaze',\n",
       " 'user': {'id': 366636488,\n",
       "  'id_str': '366636488',\n",
       "  'name': 'GIL DUPUY',\n",
       "  'screen_name': 'DUPUY77',\n",
       "  'location': 'Miami',\n",
       "  'url': 'http://ggm-dupuy.com',\n",
       "  'description': \"Fashion photographer, love action and adventure, care for the less fortunate, don't tolerate any kind of racism regardless of race or religion\",\n",
       "  'protected': False,\n",
       "  'verified': False,\n",
       "  'followers_count': 186,\n",
       "  'friends_count': 446,\n",
       "  'listed_count': 19,\n",
       "  'favourites_count': 1708,\n",
       "  'statuses_count': 17620,\n",
       "  'created_at': 'Fri Sep 02 14:54:17 +0000 2011',\n",
       "  'utc_offset': None,\n",
       "  'time_zone': None,\n",
       "  'geo_enabled': True,\n",
       "  'lang': 'en',\n",
       "  'contributors_enabled': False,\n",
       "  'is_translator': False,\n",
       "  'profile_background_color': '131516',\n",
       "  'profile_background_image_url': 'http://abs.twimg.com/images/themes/theme14/bg.gif',\n",
       "  'profile_background_image_url_https': 'https://abs.twimg.com/images/themes/theme14/bg.gif',\n",
       "  'profile_background_tile': True,\n",
       "  'profile_link_color': '009999',\n",
       "  'profile_sidebar_border_color': 'EEEEEE',\n",
       "  'profile_sidebar_fill_color': 'EFEFEF',\n",
       "  'profile_text_color': '333333',\n",
       "  'profile_use_background_image': True,\n",
       "  'profile_image_url': 'http://pbs.twimg.com/profile_images/760915612910497792/bz4WtvbZ_normal.jpg',\n",
       "  'profile_image_url_https': 'https://pbs.twimg.com/profile_images/760915612910497792/bz4WtvbZ_normal.jpg',\n",
       "  'default_profile': False,\n",
       "  'default_profile_image': False,\n",
       "  'following': None,\n",
       "  'follow_request_sent': None,\n",
       "  'notifications': None},\n",
       " 'geo': None,\n",
       " 'coordinates': None,\n",
       " 'place': {'id': '29a119f18820c3ad',\n",
       "  'url': 'https://api.twitter.com/1.1/geo/id/29a119f18820c3ad.json',\n",
       "  'place_type': 'city',\n",
       "  'name': 'Frontenac',\n",
       "  'full_name': 'Frontenac, MO',\n",
       "  'country_code': 'US',\n",
       "  'country': 'United States',\n",
       "  'bounding_box': {'type': 'Polygon',\n",
       "   'coordinates': [[[-90.433909, 38.606163],\n",
       "     [-90.433909, 38.647891],\n",
       "     [-90.405462, 38.647891],\n",
       "     [-90.405462, 38.606163]]]},\n",
       "  'attributes': {}},\n",
       " 'contributors': None,\n",
       " 'is_quote_status': False,\n",
       " 'retweet_count': 0,\n",
       " 'favorite_count': 0,\n",
       " 'entities': {'hashtags': [],\n",
       "  'urls': [],\n",
       "  'user_mentions': [{'screen_name': 'theblaze',\n",
       "    'name': 'TheBlaze',\n",
       "    'id': 10774652,\n",
       "    'id_str': '10774652',\n",
       "    'indices': [0, 9]},\n",
       "   {'screen_name': 'realDonaldTrump',\n",
       "    'name': 'Donald J. Trump',\n",
       "    'id': 25073877,\n",
       "    'id_str': '25073877',\n",
       "    'indices': [10, 26]}],\n",
       "  'symbols': [],\n",
       "  'media': [{'id': 764039718237409281,\n",
       "    'id_str': '764039718237409281',\n",
       "    'indices': [27, 50],\n",
       "    'media_url': 'http://pbs.twimg.com/media/CppqE1_UkAE2qFj.jpg',\n",
       "    'media_url_https': 'https://pbs.twimg.com/media/CppqE1_UkAE2qFj.jpg',\n",
       "    'url': 'https://t.co/TY9DlZ584c',\n",
       "    'display_url': 'pic.twitter.com/TY9DlZ584c',\n",
       "    'expanded_url': 'http://twitter.com/DUPUY77/status/764039724818272256/photo/1',\n",
       "    'type': 'photo',\n",
       "    'sizes': {'medium': {'w': 640, 'h': 1136, 'resize': 'fit'},\n",
       "     'large': {'w': 640, 'h': 1136, 'resize': 'fit'},\n",
       "     'thumb': {'w': 150, 'h': 150, 'resize': 'crop'},\n",
       "     'small': {'w': 383, 'h': 680, 'resize': 'fit'}}}]},\n",
       " 'extended_entities': {'media': [{'id': 764039718237409281,\n",
       "    'id_str': '764039718237409281',\n",
       "    'indices': [27, 50],\n",
       "    'media_url': 'http://pbs.twimg.com/media/CppqE1_UkAE2qFj.jpg',\n",
       "    'media_url_https': 'https://pbs.twimg.com/media/CppqE1_UkAE2qFj.jpg',\n",
       "    'url': 'https://t.co/TY9DlZ584c',\n",
       "    'display_url': 'pic.twitter.com/TY9DlZ584c',\n",
       "    'expanded_url': 'http://twitter.com/DUPUY77/status/764039724818272256/photo/1',\n",
       "    'type': 'photo',\n",
       "    'sizes': {'medium': {'w': 640, 'h': 1136, 'resize': 'fit'},\n",
       "     'large': {'w': 640, 'h': 1136, 'resize': 'fit'},\n",
       "     'thumb': {'w': 150, 'h': 150, 'resize': 'crop'},\n",
       "     'small': {'w': 383, 'h': 680, 'resize': 'fit'}}}]},\n",
       " 'favorited': False,\n",
       " 'retweeted': False,\n",
       " 'possibly_sensitive': False,\n",
       " 'filter_level': 'low',\n",
       " 'lang': 'und',\n",
       " 'timestamp_ms': '1470996240225'}"
      ]
     },
     "execution_count": 11,
     "metadata": {},
     "output_type": "execute_result"
    }
   ],
   "source": [
    "json.loads(data[3])['entities']['user_mentions']"
   ]
  },
  {
   "cell_type": "code",
   "execution_count": 87,
   "metadata": {},
   "outputs": [],
   "source": [
    "screenname = []\n",
    "for rows in range(0,20): \n",
    "    data_filtered = (json.loads(data[rows])['entities']['user_mentions'])\n",
    "    for i in range(0,len(data_filtered)): \n",
    "        screenname.append(data_filtered[i]['screen_name'])"
   ]
  },
  {
   "cell_type": "code",
   "execution_count": 97,
   "metadata": {},
   "outputs": [
    {
     "data": {
      "text/plain": [
       "0\n",
       "BarackObama         1\n",
       "CribBoss            1\n",
       "FBI                 1\n",
       "Geraldanthro        1\n",
       "HillaryClinton      6\n",
       "LorettaLynch        1\n",
       "NeilTurner_         1\n",
       "TeamUSA             1\n",
       "WesSmith123         1\n",
       "elsolarverde        1\n",
       "funnyordie          1\n",
       "mike4193496         1\n",
       "realDonaldTrump    12\n",
       "seanhannity         1\n",
       "sherrilee7          1\n",
       "theblaze            2\n",
       "washingtonpost      1\n",
       "dtype: int64"
      ]
     },
     "execution_count": 97,
     "metadata": {},
     "output_type": "execute_result"
    }
   ],
   "source": [
    "pd.DataFrame(screenname).groupby(0).size()"
   ]
  },
  {
   "cell_type": "code",
   "execution_count": 12,
   "metadata": {},
   "outputs": [
    {
     "data": {
      "text/html": [
       "<div>\n",
       "<style scoped>\n",
       "    .dataframe tbody tr th:only-of-type {\n",
       "        vertical-align: middle;\n",
       "    }\n",
       "\n",
       "    .dataframe tbody tr th {\n",
       "        vertical-align: top;\n",
       "    }\n",
       "\n",
       "    .dataframe thead th {\n",
       "        text-align: right;\n",
       "    }\n",
       "</style>\n",
       "<table border=\"1\" class=\"dataframe\">\n",
       "  <thead>\n",
       "    <tr style=\"text-align: right;\">\n",
       "      <th></th>\n",
       "      <th>contributors</th>\n",
       "      <th>coordinates</th>\n",
       "      <th>created_at</th>\n",
       "      <th>entities</th>\n",
       "      <th>extended_entities</th>\n",
       "      <th>favorite_count</th>\n",
       "      <th>favorited</th>\n",
       "      <th>filter_level</th>\n",
       "      <th>geo</th>\n",
       "      <th>id</th>\n",
       "      <th>...</th>\n",
       "      <th>lang</th>\n",
       "      <th>place</th>\n",
       "      <th>possibly_sensitive</th>\n",
       "      <th>retweet_count</th>\n",
       "      <th>retweeted</th>\n",
       "      <th>source</th>\n",
       "      <th>text</th>\n",
       "      <th>timestamp_ms</th>\n",
       "      <th>truncated</th>\n",
       "      <th>user</th>\n",
       "    </tr>\n",
       "  </thead>\n",
       "  <tbody>\n",
       "    <tr>\n",
       "      <th>0</th>\n",
       "      <td>None</td>\n",
       "      <td>None</td>\n",
       "      <td>Fri Aug 12 10:04:00 +0000 2016</td>\n",
       "      <td>{'hashtags': [], 'urls': [], 'user_mentions': ...</td>\n",
       "      <td>{'media': [{'id': 764039718237409281, 'id_str'...</td>\n",
       "      <td>0</td>\n",
       "      <td>False</td>\n",
       "      <td>low</td>\n",
       "      <td>None</td>\n",
       "      <td>764039724818272256</td>\n",
       "      <td>...</td>\n",
       "      <td>und</td>\n",
       "      <td>{'id': '29a119f18820c3ad', 'url': 'https://api...</td>\n",
       "      <td>False</td>\n",
       "      <td>0</td>\n",
       "      <td>False</td>\n",
       "      <td>&lt;a href=\"http://twitter.com/download/iphone\" r...</td>\n",
       "      <td>@theblaze @realDonaldTrump https://t.co/TY9DlZ...</td>\n",
       "      <td>1470996240225</td>\n",
       "      <td>False</td>\n",
       "      <td>{'id': 366636488, 'id_str': '366636488', 'name...</td>\n",
       "    </tr>\n",
       "    <tr>\n",
       "      <th>1</th>\n",
       "      <td>None</td>\n",
       "      <td>None</td>\n",
       "      <td>Fri Aug 12 10:04:02 +0000 2016</td>\n",
       "      <td>{'hashtags': [{'text': 'NOJUSTICE', 'indices':...</td>\n",
       "      <td>NaN</td>\n",
       "      <td>0</td>\n",
       "      <td>False</td>\n",
       "      <td>low</td>\n",
       "      <td>None</td>\n",
       "      <td>764039733076897792</td>\n",
       "      <td>...</td>\n",
       "      <td>en</td>\n",
       "      <td>{'id': 'c7ef5f3368b68777', 'url': 'https://api...</td>\n",
       "      <td>False</td>\n",
       "      <td>0</td>\n",
       "      <td>False</td>\n",
       "      <td>&lt;a href=\"http://twitter.com/download/android\" ...</td>\n",
       "      <td>@BarackObama \\n@FBI\\n@LORETTALYNCH \\nALL IN CO...</td>\n",
       "      <td>1470996242194</td>\n",
       "      <td>False</td>\n",
       "      <td>{'id': 82496193, 'id_str': '82496193', 'name':...</td>\n",
       "    </tr>\n",
       "  </tbody>\n",
       "</table>\n",
       "<p>2 rows × 27 columns</p>\n",
       "</div>"
      ],
      "text/plain": [
       "  contributors coordinates                      created_at  \\\n",
       "0         None        None  Fri Aug 12 10:04:00 +0000 2016   \n",
       "1         None        None  Fri Aug 12 10:04:02 +0000 2016   \n",
       "\n",
       "                                            entities  \\\n",
       "0  {'hashtags': [], 'urls': [], 'user_mentions': ...   \n",
       "1  {'hashtags': [{'text': 'NOJUSTICE', 'indices':...   \n",
       "\n",
       "                                   extended_entities  favorite_count  \\\n",
       "0  {'media': [{'id': 764039718237409281, 'id_str'...               0   \n",
       "1                                                NaN               0   \n",
       "\n",
       "   favorited filter_level   geo                  id  \\\n",
       "0      False          low  None  764039724818272256   \n",
       "1      False          low  None  764039733076897792   \n",
       "\n",
       "                         ...                         lang  \\\n",
       "0                        ...                          und   \n",
       "1                        ...                           en   \n",
       "\n",
       "                                               place  possibly_sensitive  \\\n",
       "0  {'id': '29a119f18820c3ad', 'url': 'https://api...               False   \n",
       "1  {'id': 'c7ef5f3368b68777', 'url': 'https://api...               False   \n",
       "\n",
       "  retweet_count  retweeted                                             source  \\\n",
       "0             0      False  <a href=\"http://twitter.com/download/iphone\" r...   \n",
       "1             0      False  <a href=\"http://twitter.com/download/android\" ...   \n",
       "\n",
       "                                                text   timestamp_ms truncated  \\\n",
       "0  @theblaze @realDonaldTrump https://t.co/TY9DlZ...  1470996240225     False   \n",
       "1  @BarackObama \\n@FBI\\n@LORETTALYNCH \\nALL IN CO...  1470996242194     False   \n",
       "\n",
       "                                                user  \n",
       "0  {'id': 366636488, 'id_str': '366636488', 'name...  \n",
       "1  {'id': 82496193, 'id_str': '82496193', 'name':...  \n",
       "\n",
       "[2 rows x 27 columns]"
      ]
     },
     "execution_count": 12,
     "metadata": {},
     "output_type": "execute_result"
    }
   ],
   "source": [
    "#Show entries in table\n",
    "pd.DataFrame.from_dict([json.loads(data[0]), json.loads(data[1])])"
   ]
  },
  {
   "cell_type": "code",
   "execution_count": null,
   "metadata": {},
   "outputs": [],
   "source": [
    "data_formatted = []\n",
    "for i in range(0, len(data)): \n",
    "    dict1 = json.loads(data[i])\n",
    "    data_formatted.append(dict1)"
   ]
  },
  {
   "cell_type": "code",
   "execution_count": 102,
   "metadata": {},
   "outputs": [
    {
     "name": "stdout",
     "output_type": "stream",
     "text": [
      "created_at\n",
      "id\n",
      "id_str\n",
      "text\n",
      "source\n",
      "truncated\n",
      "in_reply_to_status_id\n",
      "in_reply_to_status_id_str\n",
      "in_reply_to_user_id\n",
      "in_reply_to_user_id_str\n",
      "in_reply_to_screen_name\n",
      "user\n",
      "geo\n",
      "coordinates\n",
      "place\n",
      "contributors\n",
      "is_quote_status\n",
      "retweet_count\n",
      "favorite_count\n",
      "entities\n",
      "extended_entities\n",
      "favorited\n",
      "retweeted\n",
      "possibly_sensitive\n",
      "filter_level\n",
      "lang\n",
      "timestamp_ms\n"
     ]
    }
   ],
   "source": [
    "for keys in json.loads(data[0]).keys(): \n",
    "    print(keys)"
   ]
  },
  {
   "cell_type": "code",
   "execution_count": null,
   "metadata": {},
   "outputs": [],
   "source": [
    "fig = plt.figure() \n",
    "ax = fig.gca()\n",
    "for feature in data['features']:\n",
    "    geometry = feature['geometry']\n",
    "    if geometry['type'] == 'Polygon':\n",
    "        poly = geometry\n",
    "        ppatch = PolygonPatch(poly, fc=BLUE, ec=BLUE,  alpha=0.5, zorder=2)\n",
    "        ax.add_patch(ppatch)\n",
    "    elif geometry['type'] == 'MultiPolygon':\n",
    "        for polygon in geometry['coordinates'][0]:\n",
    "            poly = Polygon(polygon)\n",
    "            ppatch = PolygonPatch(poly, fc=BLUE, ec=BLUE, alpha=0.5, zorder=2)\n",
    "            ax.add_patch(ppatch)\n",
    "    else:\n",
    "        print('Don\\'t know how to draw :', geometry['type'])\n",
    "\n",
    "ax.axis('scaled')\n",
    "plt.axis('off')\n",
    "plt.show()"
   ]
  },
  {
   "cell_type": "code",
   "execution_count": null,
   "metadata": {},
   "outputs": [],
   "source": []
  }
 ],
 "metadata": {
  "kernelspec": {
   "display_name": "Python 3",
   "language": "python",
   "name": "python3"
  },
  "language_info": {
   "codemirror_mode": {
    "name": "ipython",
    "version": 3
   },
   "file_extension": ".py",
   "mimetype": "text/x-python",
   "name": "python",
   "nbconvert_exporter": "python",
   "pygments_lexer": "ipython3",
   "version": "3.7.1"
  }
 },
 "nbformat": 4,
 "nbformat_minor": 2
}
