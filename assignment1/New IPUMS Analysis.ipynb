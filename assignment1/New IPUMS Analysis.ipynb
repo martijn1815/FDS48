{
 "cells": [
  {
   "cell_type": "code",
   "execution_count": 44,
   "metadata": {},
   "outputs": [],
   "source": [
    "import gzip\n",
    "import csv\n",
    "import json\n",
    "import pandas as pd\n",
    "import matplotlib.pyplot as plt"
   ]
  },
  {
   "cell_type": "code",
   "execution_count": 2,
   "metadata": {},
   "outputs": [],
   "source": [
    "df = pd.read_csv(\"usa_00005.csv.gz\", compression=\"gzip\")"
   ]
  },
  {
   "cell_type": "code",
   "execution_count": 35,
   "metadata": {},
   "outputs": [],
   "source": [
    "new_df = df[[\"STATEFIP\", \"AGE\", \"EMPSTAT\", \"EDUC\"]]"
   ]
  },
  {
   "cell_type": "code",
   "execution_count": 9,
   "metadata": {},
   "outputs": [],
   "source": [
    "codebook_txt = open(\"usa_00005.cbk.txt\", 'r')\n",
    "\n",
    "# Load all of the lines of txt and put them into a list\n",
    "# When looking at the list of all lines in another cell we can start to find the places of the indexes necessary\n",
    "\n",
    "all_lines = []\n",
    "for line in codebook_txt.readlines():\n",
    "    all_lines.append(line)\n",
    "\n",
    "# Find the indexes in all_lines for the state decoder\n",
    "index_1 = all_lines.index(\"01\\t\\tAlabama\\n\")\n",
    "index_2 = all_lines.index(\"56\\t\\tWyoming\\n\")\n",
    "\n",
    "# Find the indexes in all_lines for the educational attainment decoder\n",
    "index_3 = all_lines.index(\"00\\t\\tN/A or no schooling\\n\")\n",
    "index_4 = all_lines.index(\"11\\t\\t5+ years of college\\n\")\n",
    "\n",
    "# Find the indexes in all_lines for the employment status decoder\n",
    "index_6 = all_lines.index(\"3\\t\\tNot in labor force\\n\")\n",
    "index_5 = index_6 - 3"
   ]
  },
  {
   "cell_type": "code",
   "execution_count": 10,
   "metadata": {},
   "outputs": [],
   "source": [
    "state_decoder = {}\n",
    "for line in all_lines[index_1:index_2+1]:\n",
    "    line_split = line.split(\"\\t\\t\")\n",
    "    line_split[0] = int(line_split[0])\n",
    "    line_split[1] = line_split[1][:-1]\n",
    "    state_decoder[line_split[0]] = line_split[1]"
   ]
  },
  {
   "cell_type": "code",
   "execution_count": 12,
   "metadata": {},
   "outputs": [],
   "source": [
    "education_decoder = {}\n",
    "for line in all_lines[index_3:index_4+1]:\n",
    "    line_split = line.split(\"\\t\\t\")\n",
    "    line_split[0] = int(line_split[0])\n",
    "    line_split[1] = line_split[1][:-1]\n",
    "    education_decoder[line_split[0]] = line_split[1]"
   ]
  },
  {
   "cell_type": "code",
   "execution_count": 13,
   "metadata": {},
   "outputs": [],
   "source": [
    "employment_decoder = {}\n",
    "for line in all_lines[index_5:index_6+1]:\n",
    "    line_split = line.split(\"\\t\\t\")\n",
    "    line_split[0] = int(line_split[0])\n",
    "    line_split[1] = line_split[1][:-1]\n",
    "    employment_decoder[line_split[0]] = line_split[1]"
   ]
  },
  {
   "cell_type": "code",
   "execution_count": 36,
   "metadata": {},
   "outputs": [],
   "source": [
    "# Apply the three maps to replace the values in the dataframe\n",
    "new_df[\"STATEFIP\"].replace(state_decoder, inplace = True) \n",
    "new_df[\"EDUC\"].replace(education_decoder, inplace = True)\n",
    "new_df[\"EMPSTAT\"].replace(employment_decoder, inplace = True)"
   ]
  },
  {
   "cell_type": "code",
   "execution_count": 37,
   "metadata": {},
   "outputs": [],
   "source": [
    "# Filter for individuals who are older than 25\n",
    "age_18 = new_df[new_df.AGE > 17]"
   ]
  },
  {
   "cell_type": "code",
   "execution_count": 38,
   "metadata": {},
   "outputs": [],
   "source": [
    "# Create a map that will create two groups for education: those who have attended at least one year of college\n",
    "# and those who have not\n",
    "\n",
    "education_list = age_18[\"EDUC\"].unique()\n",
    "\n",
    "some_college_map = {}\n",
    "\n",
    "for i in education_list:\n",
    "    if \"college\" in i:\n",
    "        some_college_map[i] = \"Some college\"\n",
    "    else:\n",
    "        some_college_map[i] = \"No college\""
   ]
  },
  {
   "cell_type": "code",
   "execution_count": 39,
   "metadata": {},
   "outputs": [],
   "source": [
    "# Create the two groups based on the map on the pandas dataframe \n",
    "\n",
    "age_18[\"EDUC\"].replace(some_college_map, inplace = True)"
   ]
  },
  {
   "cell_type": "code",
   "execution_count": 40,
   "metadata": {},
   "outputs": [
    {
     "data": {
      "text/html": [
       "<div>\n",
       "<style scoped>\n",
       "    .dataframe tbody tr th:only-of-type {\n",
       "        vertical-align: middle;\n",
       "    }\n",
       "\n",
       "    .dataframe tbody tr th {\n",
       "        vertical-align: top;\n",
       "    }\n",
       "\n",
       "    .dataframe thead th {\n",
       "        text-align: right;\n",
       "    }\n",
       "</style>\n",
       "<table border=\"1\" class=\"dataframe\">\n",
       "  <thead>\n",
       "    <tr style=\"text-align: right;\">\n",
       "      <th></th>\n",
       "      <th>STATEFIP</th>\n",
       "      <th>AGE</th>\n",
       "      <th>EMPSTAT</th>\n",
       "      <th>EDUC</th>\n",
       "    </tr>\n",
       "  </thead>\n",
       "  <tbody>\n",
       "    <tr>\n",
       "      <td>0</td>\n",
       "      <td>Alabama</td>\n",
       "      <td>84</td>\n",
       "      <td>Not in labor force</td>\n",
       "      <td>Some college</td>\n",
       "    </tr>\n",
       "    <tr>\n",
       "      <td>1</td>\n",
       "      <td>Alabama</td>\n",
       "      <td>84</td>\n",
       "      <td>Not in labor force</td>\n",
       "      <td>Some college</td>\n",
       "    </tr>\n",
       "    <tr>\n",
       "      <td>2</td>\n",
       "      <td>Alabama</td>\n",
       "      <td>78</td>\n",
       "      <td>Employed</td>\n",
       "      <td>Some college</td>\n",
       "    </tr>\n",
       "    <tr>\n",
       "      <td>3</td>\n",
       "      <td>Alabama</td>\n",
       "      <td>46</td>\n",
       "      <td>Employed</td>\n",
       "      <td>Some college</td>\n",
       "    </tr>\n",
       "    <tr>\n",
       "      <td>4</td>\n",
       "      <td>Alabama</td>\n",
       "      <td>52</td>\n",
       "      <td>Not in labor force</td>\n",
       "      <td>No college</td>\n",
       "    </tr>\n",
       "    <tr>\n",
       "      <td>...</td>\n",
       "      <td>...</td>\n",
       "      <td>...</td>\n",
       "      <td>...</td>\n",
       "      <td>...</td>\n",
       "    </tr>\n",
       "    <tr>\n",
       "      <td>3156482</td>\n",
       "      <td>Wyoming</td>\n",
       "      <td>74</td>\n",
       "      <td>Not in labor force</td>\n",
       "      <td>Some college</td>\n",
       "    </tr>\n",
       "    <tr>\n",
       "      <td>3156483</td>\n",
       "      <td>Wyoming</td>\n",
       "      <td>71</td>\n",
       "      <td>Not in labor force</td>\n",
       "      <td>No college</td>\n",
       "    </tr>\n",
       "    <tr>\n",
       "      <td>3156484</td>\n",
       "      <td>Wyoming</td>\n",
       "      <td>70</td>\n",
       "      <td>Not in labor force</td>\n",
       "      <td>Some college</td>\n",
       "    </tr>\n",
       "    <tr>\n",
       "      <td>3156485</td>\n",
       "      <td>Wyoming</td>\n",
       "      <td>31</td>\n",
       "      <td>Employed</td>\n",
       "      <td>Some college</td>\n",
       "    </tr>\n",
       "    <tr>\n",
       "      <td>3156486</td>\n",
       "      <td>Wyoming</td>\n",
       "      <td>87</td>\n",
       "      <td>Not in labor force</td>\n",
       "      <td>No college</td>\n",
       "    </tr>\n",
       "  </tbody>\n",
       "</table>\n",
       "<p>2503750 rows × 4 columns</p>\n",
       "</div>"
      ],
      "text/plain": [
       "        STATEFIP  AGE             EMPSTAT          EDUC\n",
       "0        Alabama   84  Not in labor force  Some college\n",
       "1        Alabama   84  Not in labor force  Some college\n",
       "2        Alabama   78            Employed  Some college\n",
       "3        Alabama   46            Employed  Some college\n",
       "4        Alabama   52  Not in labor force    No college\n",
       "...          ...  ...                 ...           ...\n",
       "3156482  Wyoming   74  Not in labor force  Some college\n",
       "3156483  Wyoming   71  Not in labor force    No college\n",
       "3156484  Wyoming   70  Not in labor force  Some college\n",
       "3156485  Wyoming   31            Employed  Some college\n",
       "3156486  Wyoming   87  Not in labor force    No college\n",
       "\n",
       "[2503750 rows x 4 columns]"
      ]
     },
     "execution_count": 40,
     "metadata": {},
     "output_type": "execute_result"
    }
   ],
   "source": [
    "age_18"
   ]
  },
  {
   "cell_type": "code",
   "execution_count": 41,
   "metadata": {},
   "outputs": [],
   "source": [
    "def get_proportions_of_series(pd_series):\n",
    "    proportion_counts = pd_series.value_counts(normalize=True)\n",
    "    proportions_dictionary = proportion_counts.to_dict()\n",
    "    return proportions_dictionary"
   ]
  },
  {
   "cell_type": "code",
   "execution_count": 42,
   "metadata": {},
   "outputs": [],
   "source": [
    "state_list = age_18[\"STATEFIP\"].unique()\n",
    "\n",
    "column_names = [\"State\", \n",
    "                 \"Proportion Some College\", \n",
    "                 \"Proportion No College\", \n",
    "                 \"Proportion Not In Labor Force\",\n",
    "                 \"Proportion Employed\",\n",
    "                 \"Proportion Unemployed\"]\n",
    "\n",
    "new_ipums_df = pd.DataFrame(columns = column_names)\n",
    "\n",
    "for state in state_list:\n",
    "    \n",
    "    prop_df = age_18[age_18.STATEFIP == state]\n",
    "    college_proportions = get_proportions_of_series(prop_df[\"EDUC\"])\n",
    "    employment_proportions = get_proportions_of_series(prop_df[\"EMPSTAT\"])\n",
    "    \n",
    "    state_proportions_dictionary = {}\n",
    "    \n",
    "    state_proportions_dictionary[\"State\"] = state\n",
    "    state_proportions_dictionary[\"Proportion Some College\"] = college_proportions[\"Some college\"]\n",
    "    state_proportions_dictionary[\"Proportion No College\"] = college_proportions[\"No college\"]\n",
    "    state_proportions_dictionary[\"Proportion Not In Labor Force\"] = employment_proportions[\"Not in labor force\"]\n",
    "    state_proportions_dictionary[\"Proportion Employed\"] = employment_proportions[\"Employed\"]\n",
    "    state_proportions_dictionary[\"Proportion Unemployed\"] = employment_proportions[\"Unemployed\"]\n",
    "    \n",
    "    new_ipums_df = new_ipums_df.append(state_proportions_dictionary, ignore_index=True)"
   ]
  },
  {
   "cell_type": "code",
   "execution_count": 49,
   "metadata": {},
   "outputs": [
    {
     "data": {
      "image/png": "[encoded data removed]",
      "text/plain": [
       "<Figure size 1080x360 with 1 Axes>"
      ]
     },
     "metadata": {
      "needs_background": "light"
     },
     "output_type": "display_data"
    }
   ],
   "source": [
    "new_ipums_df.sort_values(\"Proportion Some College\").plot(kind = 'bar', x=\"State\", y=\"Proportion Some College\", \n",
    "                                                                  figsize=(15,5), legend = False, \n",
    "                                                                  ylim = (.25, .75), \n",
    "                                                                  title = \"Proportion of Individuals with at Least One Year of College by State\")\n",
    "plt.xlabel(\"State\")\n",
    "plt.ylabel(\"Proportion of at Least One Year of College\")\n",
    "plt.show()"
   ]
  },
  {
   "cell_type": "code",
   "execution_count": 53,
   "metadata": {},
   "outputs": [
    {
     "ename": "KeyError",
     "evalue": "'Proportion UnemployedProportion UnemployedProportion UnemployedProportion UnemployedProportion UnemployedProportion UnemployedProportion UnemployedProportion UnemployedProportion UnemployedProportion UnemployedProportion UnemployedProportion UnemployedProportion UnemployedProportion UnemployedProportion UnemployedProportion UnemployedProportion UnemployedProportion UnemployedProportion UnemployedProportion UnemployedProportion UnemployedProportion UnemployedProportion UnemployedProportion UnemployedProportion UnemployedProportion UnemployedProportion UnemployedProportion UnemployedProportion UnemployedProportion UnemployedProportion UnemployedProportion UnemployedProportion UnemployedProportion UnemployedProportion UnemployedProportion UnemployedProportion UnemployedProportion UnemployedProportion UnemployedProportion UnemployedProportion UnemployedProportion UnemployedProportion UnemployedProportion UnemployedProportion UnemployedProportion UnemployedProportion UnemployedProportion UnemployedProportion UnemployedProportion UnemployedProportion UnemployedProportion UnemployedProportion UnemployedProportion UnemployedProportion UnemployedProportion UnemployedProportion UnemployedProportion UnemployedProportion UnemployedProportion UnemployedProportion UnemployedProportion UnemployedProportion UnemployedProportion UnemployedProportion UnemployedProportion UnemployedProportion UnemployedProportion UnemployedProportion UnemployedProportion UnemployedProportion UnemployedProportion UnemployedProportion UnemployedProportion UnemployedProportion UnemployedProportion UnemployedProportion UnemployedProportion UnemployedProportion UnemployedProportion UnemployedProportion UnemployedProportion UnemployedProportion UnemployedProportion UnemployedProportion UnemployedProportion UnemployedProportion UnemployedProportion UnemployedProportion UnemployedProportion UnemployedProportion UnemployedProportion UnemployedProportion UnemployedProportion UnemployedProportion UnemployedProportion UnemployedProportion UnemployedProportion UnemployedProportion UnemployedProportion Unemployed'",
     "output_type": "error",
     "traceback": [
      "\u001b[0;31m---------------------------------------------------------------------------\u001b[0m",
      "\u001b[0;31mKeyError\u001b[0m                                  Traceback (most recent call last)",
      "\u001b[0;32m~/opt/anaconda3/lib/python3.7/site-packages/pandas/core/indexes/base.py\u001b[0m in \u001b[0;36mget_loc\u001b[0;34m(self, key, method, tolerance)\u001b[0m\n\u001b[1;32m   2896\u001b[0m             \u001b[0;32mtry\u001b[0m\u001b[0;34m:\u001b[0m\u001b[0;34m\u001b[0m\u001b[0;34m\u001b[0m\u001b[0m\n\u001b[0;32m-> 2897\u001b[0;31m                 \u001b[0;32mreturn\u001b[0m \u001b[0mself\u001b[0m\u001b[0;34m.\u001b[0m\u001b[0m_engine\u001b[0m\u001b[0;34m.\u001b[0m\u001b[0mget_loc\u001b[0m\u001b[0;34m(\u001b[0m\u001b[0mkey\u001b[0m\u001b[0;34m)\u001b[0m\u001b[0;34m\u001b[0m\u001b[0;34m\u001b[0m\u001b[0m\n\u001b[0m\u001b[1;32m   2898\u001b[0m             \u001b[0;32mexcept\u001b[0m \u001b[0mKeyError\u001b[0m\u001b[0;34m:\u001b[0m\u001b[0;34m\u001b[0m\u001b[0;34m\u001b[0m\u001b[0m\n",
      "\u001b[0;32mpandas/_libs/index.pyx\u001b[0m in \u001b[0;36mpandas._libs.index.IndexEngine.get_loc\u001b[0;34m()\u001b[0m\n",
      "\u001b[0;32mpandas/_libs/index.pyx\u001b[0m in \u001b[0;36mpandas._libs.index.IndexEngine.get_loc\u001b[0;34m()\u001b[0m\n",
      "\u001b[0;32mpandas/_libs/hashtable_class_helper.pxi\u001b[0m in \u001b[0;36mpandas._libs.hashtable.PyObjectHashTable.get_item\u001b[0;34m()\u001b[0m\n",
      "\u001b[0;32mpandas/_libs/hashtable_class_helper.pxi\u001b[0m in \u001b[0;36mpandas._libs.hashtable.PyObjectHashTable.get_item\u001b[0;34m()\u001b[0m\n",
      "\u001b[0;31mKeyError\u001b[0m: 'Proportion UnemployedProportion UnemployedProportion UnemployedProportion UnemployedProportion UnemployedProportion UnemployedProportion UnemployedProportion UnemployedProportion UnemployedProportion UnemployedProportion UnemployedProportion UnemployedProportion UnemployedProportion UnemployedProportion UnemployedProportion UnemployedProportion UnemployedProportion UnemployedProportion UnemployedProportion UnemployedProportion UnemployedProportion UnemployedProportion UnemployedProportion UnemployedProportion UnemployedProportion UnemployedProportion UnemployedProportion UnemployedProportion UnemployedProportion UnemployedProportion UnemployedProportion UnemployedProportion UnemployedProportion UnemployedProportion UnemployedProportion UnemployedProportion UnemployedProportion UnemployedProportion UnemployedProportion UnemployedProportion UnemployedProportion UnemployedProportion UnemployedProportion UnemployedProportion UnemployedProportion UnemployedProportion UnemployedProportion UnemployedProportion UnemployedProportion UnemployedProportion UnemployedProportion UnemployedProportion UnemployedProportion UnemployedProportion UnemployedProportion UnemployedProportion UnemployedProportion UnemployedProportion UnemployedProportion UnemployedProportion UnemployedProportion UnemployedProportion UnemployedProportion UnemployedProportion UnemployedProportion UnemployedProportion UnemployedProportion UnemployedProportion UnemployedProportion UnemployedProportion UnemployedProportion UnemployedProportion UnemployedProportion UnemployedProportion UnemployedProportion UnemployedProportion UnemployedProportion UnemployedProportion UnemployedProportion UnemployedProportion UnemployedProportion UnemployedProportion UnemployedProportion UnemployedProportion UnemployedProportion UnemployedProportion UnemployedProportion UnemployedProportion UnemployedProportion UnemployedProportion UnemployedProportion UnemployedProportion UnemployedProportion UnemployedProportion UnemployedProportion UnemployedProportion UnemployedProportion UnemployedProportion UnemployedProportion Unemployed'",
      "\nDuring handling of the above exception, another exception occurred:\n",
      "\u001b[0;31mKeyError\u001b[0m                                  Traceback (most recent call last)",
      "\u001b[0;32m<ipython-input-53-00d0d96523c3>\u001b[0m in \u001b[0;36m<module>\u001b[0;34m\u001b[0m\n\u001b[1;32m      2\u001b[0m                                                                 \u001b[0mfigsize\u001b[0m\u001b[0;34m=\u001b[0m\u001b[0;34m(\u001b[0m\u001b[0;36m15\u001b[0m\u001b[0;34m,\u001b[0m\u001b[0;36m5\u001b[0m\u001b[0;34m)\u001b[0m\u001b[0;34m,\u001b[0m \u001b[0mlegend\u001b[0m \u001b[0;34m=\u001b[0m \u001b[0;32mFalse\u001b[0m\u001b[0;34m,\u001b[0m\u001b[0;34m\u001b[0m\u001b[0;34m\u001b[0m\u001b[0m\n\u001b[1;32m      3\u001b[0m                                                                 \u001b[0mylim\u001b[0m \u001b[0;34m=\u001b[0m \u001b[0;34m(\u001b[0m\u001b[0;36m0.01\u001b[0m\u001b[0;34m,\u001b[0m \u001b[0;36m0.08\u001b[0m\u001b[0;34m)\u001b[0m\u001b[0;34m,\u001b[0m\u001b[0;34m\u001b[0m\u001b[0;34m\u001b[0m\u001b[0m\n\u001b[0;32m----> 4\u001b[0;31m                                                                 title = \"Unemployment Rate by State for the Year 2016\")\n\u001b[0m\u001b[1;32m      5\u001b[0m \u001b[0mplt\u001b[0m\u001b[0;34m.\u001b[0m\u001b[0mxlabel\u001b[0m\u001b[0;34m(\u001b[0m\u001b[0;34m\"State\"\u001b[0m\u001b[0;34m)\u001b[0m\u001b[0;34m\u001b[0m\u001b[0;34m\u001b[0m\u001b[0m\n\u001b[1;32m      6\u001b[0m \u001b[0mplt\u001b[0m\u001b[0;34m.\u001b[0m\u001b[0mylabel\u001b[0m\u001b[0;34m(\u001b[0m\u001b[0;34m\"Unemployment Rate\"\u001b[0m\u001b[0;34m)\u001b[0m\u001b[0;34m\u001b[0m\u001b[0;34m\u001b[0m\u001b[0m\n",
      "\u001b[0;32m~/opt/anaconda3/lib/python3.7/site-packages/pandas/plotting/_core.py\u001b[0m in \u001b[0;36m__call__\u001b[0;34m(self, *args, **kwargs)\u001b[0m\n\u001b[1;32m    778\u001b[0m \u001b[0;34m\u001b[0m\u001b[0m\n\u001b[1;32m    779\u001b[0m                 \u001b[0;31m# don't overwrite\u001b[0m\u001b[0;34m\u001b[0m\u001b[0;34m\u001b[0m\u001b[0;34m\u001b[0m\u001b[0m\n\u001b[0;32m--> 780\u001b[0;31m                 \u001b[0mdata\u001b[0m \u001b[0;34m=\u001b[0m \u001b[0mdata\u001b[0m\u001b[0;34m[\u001b[0m\u001b[0my\u001b[0m\u001b[0;34m]\u001b[0m\u001b[0;34m.\u001b[0m\u001b[0mcopy\u001b[0m\u001b[0;34m(\u001b[0m\u001b[0;34m)\u001b[0m\u001b[0;34m\u001b[0m\u001b[0;34m\u001b[0m\u001b[0m\n\u001b[0m\u001b[1;32m    781\u001b[0m \u001b[0;34m\u001b[0m\u001b[0m\n\u001b[1;32m    782\u001b[0m                 \u001b[0;32mif\u001b[0m \u001b[0misinstance\u001b[0m\u001b[0;34m(\u001b[0m\u001b[0mdata\u001b[0m\u001b[0;34m,\u001b[0m \u001b[0mABCSeries\u001b[0m\u001b[0;34m)\u001b[0m\u001b[0;34m:\u001b[0m\u001b[0;34m\u001b[0m\u001b[0;34m\u001b[0m\u001b[0m\n",
      "\u001b[0;32m~/opt/anaconda3/lib/python3.7/site-packages/pandas/core/frame.py\u001b[0m in \u001b[0;36m__getitem__\u001b[0;34m(self, key)\u001b[0m\n\u001b[1;32m   2978\u001b[0m             \u001b[0;32mif\u001b[0m \u001b[0mself\u001b[0m\u001b[0;34m.\u001b[0m\u001b[0mcolumns\u001b[0m\u001b[0;34m.\u001b[0m\u001b[0mnlevels\u001b[0m \u001b[0;34m>\u001b[0m \u001b[0;36m1\u001b[0m\u001b[0;34m:\u001b[0m\u001b[0;34m\u001b[0m\u001b[0;34m\u001b[0m\u001b[0m\n\u001b[1;32m   2979\u001b[0m                 \u001b[0;32mreturn\u001b[0m \u001b[0mself\u001b[0m\u001b[0;34m.\u001b[0m\u001b[0m_getitem_multilevel\u001b[0m\u001b[0;34m(\u001b[0m\u001b[0mkey\u001b[0m\u001b[0;34m)\u001b[0m\u001b[0;34m\u001b[0m\u001b[0;34m\u001b[0m\u001b[0m\n\u001b[0;32m-> 2980\u001b[0;31m             \u001b[0mindexer\u001b[0m \u001b[0;34m=\u001b[0m \u001b[0mself\u001b[0m\u001b[0;34m.\u001b[0m\u001b[0mcolumns\u001b[0m\u001b[0;34m.\u001b[0m\u001b[0mget_loc\u001b[0m\u001b[0;34m(\u001b[0m\u001b[0mkey\u001b[0m\u001b[0;34m)\u001b[0m\u001b[0;34m\u001b[0m\u001b[0;34m\u001b[0m\u001b[0m\n\u001b[0m\u001b[1;32m   2981\u001b[0m             \u001b[0;32mif\u001b[0m \u001b[0mis_integer\u001b[0m\u001b[0;34m(\u001b[0m\u001b[0mindexer\u001b[0m\u001b[0;34m)\u001b[0m\u001b[0;34m:\u001b[0m\u001b[0;34m\u001b[0m\u001b[0;34m\u001b[0m\u001b[0m\n\u001b[1;32m   2982\u001b[0m                 \u001b[0mindexer\u001b[0m \u001b[0;34m=\u001b[0m \u001b[0;34m[\u001b[0m\u001b[0mindexer\u001b[0m\u001b[0;34m]\u001b[0m\u001b[0;34m\u001b[0m\u001b[0;34m\u001b[0m\u001b[0m\n",
      "\u001b[0;32m~/opt/anaconda3/lib/python3.7/site-packages/pandas/core/indexes/base.py\u001b[0m in \u001b[0;36mget_loc\u001b[0;34m(self, key, method, tolerance)\u001b[0m\n\u001b[1;32m   2897\u001b[0m                 \u001b[0;32mreturn\u001b[0m \u001b[0mself\u001b[0m\u001b[0;34m.\u001b[0m\u001b[0m_engine\u001b[0m\u001b[0;34m.\u001b[0m\u001b[0mget_loc\u001b[0m\u001b[0;34m(\u001b[0m\u001b[0mkey\u001b[0m\u001b[0;34m)\u001b[0m\u001b[0;34m\u001b[0m\u001b[0;34m\u001b[0m\u001b[0m\n\u001b[1;32m   2898\u001b[0m             \u001b[0;32mexcept\u001b[0m \u001b[0mKeyError\u001b[0m\u001b[0;34m:\u001b[0m\u001b[0;34m\u001b[0m\u001b[0;34m\u001b[0m\u001b[0m\n\u001b[0;32m-> 2899\u001b[0;31m                 \u001b[0;32mreturn\u001b[0m \u001b[0mself\u001b[0m\u001b[0;34m.\u001b[0m\u001b[0m_engine\u001b[0m\u001b[0;34m.\u001b[0m\u001b[0mget_loc\u001b[0m\u001b[0;34m(\u001b[0m\u001b[0mself\u001b[0m\u001b[0;34m.\u001b[0m\u001b[0m_maybe_cast_indexer\u001b[0m\u001b[0;34m(\u001b[0m\u001b[0mkey\u001b[0m\u001b[0;34m)\u001b[0m\u001b[0;34m)\u001b[0m\u001b[0;34m\u001b[0m\u001b[0;34m\u001b[0m\u001b[0m\n\u001b[0m\u001b[1;32m   2900\u001b[0m         \u001b[0mindexer\u001b[0m \u001b[0;34m=\u001b[0m \u001b[0mself\u001b[0m\u001b[0;34m.\u001b[0m\u001b[0mget_indexer\u001b[0m\u001b[0;34m(\u001b[0m\u001b[0;34m[\u001b[0m\u001b[0mkey\u001b[0m\u001b[0;34m]\u001b[0m\u001b[0;34m,\u001b[0m \u001b[0mmethod\u001b[0m\u001b[0;34m=\u001b[0m\u001b[0mmethod\u001b[0m\u001b[0;34m,\u001b[0m \u001b[0mtolerance\u001b[0m\u001b[0;34m=\u001b[0m\u001b[0mtolerance\u001b[0m\u001b[0;34m)\u001b[0m\u001b[0;34m\u001b[0m\u001b[0;34m\u001b[0m\u001b[0m\n\u001b[1;32m   2901\u001b[0m         \u001b[0;32mif\u001b[0m \u001b[0mindexer\u001b[0m\u001b[0;34m.\u001b[0m\u001b[0mndim\u001b[0m \u001b[0;34m>\u001b[0m \u001b[0;36m1\u001b[0m \u001b[0;32mor\u001b[0m \u001b[0mindexer\u001b[0m\u001b[0;34m.\u001b[0m\u001b[0msize\u001b[0m \u001b[0;34m>\u001b[0m \u001b[0;36m1\u001b[0m\u001b[0;34m:\u001b[0m\u001b[0;34m\u001b[0m\u001b[0;34m\u001b[0m\u001b[0m\n",
      "\u001b[0;32mpandas/_libs/index.pyx\u001b[0m in \u001b[0;36mpandas._libs.index.IndexEngine.get_loc\u001b[0;34m()\u001b[0m\n",
      "\u001b[0;32mpandas/_libs/index.pyx\u001b[0m in \u001b[0;36mpandas._libs.index.IndexEngine.get_loc\u001b[0;34m()\u001b[0m\n",
      "\u001b[0;32mpandas/_libs/hashtable_class_helper.pxi\u001b[0m in \u001b[0;36mpandas._libs.hashtable.PyObjectHashTable.get_item\u001b[0;34m()\u001b[0m\n",
      "\u001b[0;32mpandas/_libs/hashtable_class_helper.pxi\u001b[0m in \u001b[0;36mpandas._libs.hashtable.PyObjectHashTable.get_item\u001b[0;34m()\u001b[0m\n",
      "\u001b[0;31mKeyError\u001b[0m: 'Proportion UnemployedProportion UnemployedProportion UnemployedProportion UnemployedProportion UnemployedProportion UnemployedProportion UnemployedProportion UnemployedProportion UnemployedProportion UnemployedProportion UnemployedProportion UnemployedProportion UnemployedProportion UnemployedProportion UnemployedProportion UnemployedProportion UnemployedProportion UnemployedProportion UnemployedProportion UnemployedProportion UnemployedProportion UnemployedProportion UnemployedProportion UnemployedProportion UnemployedProportion UnemployedProportion UnemployedProportion UnemployedProportion UnemployedProportion UnemployedProportion UnemployedProportion UnemployedProportion UnemployedProportion UnemployedProportion UnemployedProportion UnemployedProportion UnemployedProportion UnemployedProportion UnemployedProportion UnemployedProportion UnemployedProportion UnemployedProportion UnemployedProportion UnemployedProportion UnemployedProportion UnemployedProportion UnemployedProportion UnemployedProportion UnemployedProportion UnemployedProportion UnemployedProportion UnemployedProportion UnemployedProportion UnemployedProportion UnemployedProportion UnemployedProportion UnemployedProportion UnemployedProportion UnemployedProportion UnemployedProportion UnemployedProportion UnemployedProportion UnemployedProportion UnemployedProportion UnemployedProportion UnemployedProportion UnemployedProportion UnemployedProportion UnemployedProportion UnemployedProportion UnemployedProportion UnemployedProportion UnemployedProportion UnemployedProportion UnemployedProportion UnemployedProportion UnemployedProportion UnemployedProportion UnemployedProportion UnemployedProportion UnemployedProportion UnemployedProportion UnemployedProportion UnemployedProportion UnemployedProportion UnemployedProportion UnemployedProportion UnemployedProportion UnemployedProportion UnemployedProportion UnemployedProportion UnemployedProportion UnemployedProportion UnemployedProportion UnemployedProportion UnemployedProportion UnemployedProportion UnemployedProportion UnemployedProportion Unemployed'"
     ]
    }
   ],
   "source": [
    "new_ipums_df.sort_values(\"Proportion Unemployed\").plot(kind = 'bar', x=\"State\", y=\"Proportion Unemployed\", \n",
    "                                                                figsize=(15,5), legend = False, \n",
    "                                                                ylim = (0.01, 0.08), \n",
    "                                                                title = \"Unemployment Rate by State for the Year 2016\")\n",
    "plt.xlabel(\"State\")\n",
    "plt.ylabel(\"Unemployment Rate\")\n",
    "plt.show()"
   ]
  },
  {
   "cell_type": "code",
   "execution_count": null,
   "metadata": {},
   "outputs": [],
   "source": []
  }
 ],
 "metadata": {
  "kernelspec": {
   "display_name": "Python 3",
   "language": "python",
   "name": "python3"
  },
  "language_info": {
   "codemirror_mode": {
    "name": "ipython",
    "version": 3
   },
   "file_extension": ".py",
   "mimetype": "text/x-python",
   "name": "python",
   "nbconvert_exporter": "python",
   "pygments_lexer": "ipython3",
   "version": "3.7.4"
  }
 },
 "nbformat": 4,
 "nbformat_minor": 2
}
